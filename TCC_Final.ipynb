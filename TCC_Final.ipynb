{
  "nbformat": 4,
  "nbformat_minor": 0,
  "metadata": {
    "colab": {
      "name": "TCC - Final.ipynb",
      "provenance": [],
      "collapsed_sections": []
    },
    "kernelspec": {
      "name": "python3",
      "display_name": "Python 3"
    }
  },
  "cells": [
    {
      "cell_type": "markdown",
      "metadata": {
        "id": "zyZcbPKEUsAf"
      },
      "source": [
        "## TCC - Marryele Moniê\n",
        "Especialização em Ciências de Dados e Big Data - 2019\n",
        "---\n",
        "\n",
        "\n"
      ]
    },
    {
      "cell_type": "markdown",
      "metadata": {
        "id": "JesAyp5Ilykp"
      },
      "source": [
        "Importação de bibliotecas para usar nos códigos\r\n"
      ]
    },
    {
      "cell_type": "code",
      "metadata": {
        "id": "6ClwaMl4OOi2"
      },
      "source": [
        "\r\n",
        "!pip install ipywidgets\r\n",
        "!pip3 install graphviz\r\n",
        "!pip3 install pydot"
      ],
      "execution_count": null,
      "outputs": []
    },
    {
      "cell_type": "code",
      "metadata": {
        "id": "kdkNVYvLeFbP"
      },
      "source": [
        "import numpy as np # linear algebra\r\n",
        "import pandas as pd # data processing, CSV file I/O (e.g. pd.read_csv)\r\n",
        "import matplotlib.pyplot as plt\r\n",
        "import datetime as dt\r\n",
        "\r\n",
        "from sklearn.model_selection import train_test_split\r\n",
        "from sklearn.dummy import DummyClassifier\r\n",
        "from sklearn.metrics import accuracy_score\r\n",
        "\r\n",
        "from sklearn.tree import DecisionTreeClassifier\r\n",
        "from sklearn import metrics\r\n",
        "\r\n",
        "from sklearn.naive_bayes import GaussianNB\r\n",
        "\r\n",
        "from matplotlib import pyplot as plt\r\n",
        "\r\n",
        "import pydot\r\n",
        "import graphviz\r\n",
        "from sklearn import tree"
      ],
      "execution_count": null,
      "outputs": []
    },
    {
      "cell_type": "markdown",
      "metadata": {
        "id": "6iv4nkraoKDJ"
      },
      "source": [
        "Carregando dados\r\n"
      ]
    },
    {
      "cell_type": "code",
      "metadata": {
        "id": "-uJ7HGjDoJEf"
      },
      "source": [
        "orders = pd.read_csv('https://raw.githubusercontent.com/Marryele/tcc_puc/main/olist_orders_dataset.csv')\r\n",
        " \r\n",
        "customers = pd.read_csv(\"https://raw.githubusercontent.com/Marryele/tcc_puc/main/olist_customers_dataset.csv\") \r\n",
        "\r\n",
        "order_items = pd.read_csv('https://raw.githubusercontent.com/Marryele/tcc_puc/main/olist_order_items_dataset.csv') \r\n",
        "\r\n",
        "products = pd.read_csv('https://raw.githubusercontent.com/Marryele/tcc_puc/main/olist_products_dataset.csv')  \r\n",
        "\r\n",
        "order_review = pd.read_csv('https://raw.githubusercontent.com/Marryele/tcc_puc/main/olist_order_reviews_dataset.csv') "
      ],
      "execution_count": null,
      "outputs": []
    },
    {
      "cell_type": "code",
      "metadata": {
        "id": "F8eu_PFbN4HO"
      },
      "source": [
        "# converting to datetime para fazer a diferença de dias de atraso posteriormente\n",
        "orders['order_purchase_timestamp'] = pd.to_datetime(orders.order_purchase_timestamp).dt.date\n",
        "orders['order_estimated_delivery_date'] = pd.to_datetime(orders.order_estimated_delivery_date).dt.date  \n",
        "orders['order_delivered_customer_date'] = pd.to_datetime(orders.order_delivered_customer_date).dt.date  \n"
      ],
      "execution_count": null,
      "outputs": []
    },
    {
      "cell_type": "code",
      "metadata": {
        "id": "b29TQGISpLac"
      },
      "source": [
        "orders.info()"
      ],
      "execution_count": null,
      "outputs": []
    },
    {
      "cell_type": "code",
      "metadata": {
        "id": "fJDboECBqTKf"
      },
      "source": [
        "order_items.info()"
      ],
      "execution_count": null,
      "outputs": []
    },
    {
      "cell_type": "code",
      "metadata": {
        "id": "Arb3E2p1qaPY"
      },
      "source": [
        "customers.info()"
      ],
      "execution_count": null,
      "outputs": []
    },
    {
      "cell_type": "code",
      "metadata": {
        "id": "DGyps-C0qe7R"
      },
      "source": [
        "products.info()"
      ],
      "execution_count": null,
      "outputs": []
    },
    {
      "cell_type": "code",
      "metadata": {
        "id": "bXaO6K58qnMZ"
      },
      "source": [
        "order_review.info()"
      ],
      "execution_count": null,
      "outputs": []
    },
    {
      "cell_type": "markdown",
      "metadata": {
        "id": "NdYJJO136CWQ"
      },
      "source": [
        "Faço o groupby com a função sum para somar o valor dos produtos e do frete para cada order_id e produt_id dos pedidos. Quero agregar na tabela principal essas informações de valores e frete"
      ]
    },
    {
      "cell_type": "code",
      "metadata": {
        "id": "XGgTWbovY1DX"
      },
      "source": [
        "orders = orders.merge((order_items.groupby(['order_id','product_id' ]).sum()), how= 'left', left_on= 'order_id', right_on= 'order_id')  \n",
        "orders = orders.rename( columns= {'price': 'order_products_value', 'freight_value': 'order_freight_value'} )\n",
        "orders.head()"
      ],
      "execution_count": null,
      "outputs": []
    },
    {
      "cell_type": "markdown",
      "metadata": {
        "id": "5Kc_F9aO6qyl"
      },
      "source": [
        "Faço merge com a tabela custumers para trazer as informações do cliente, como o customer_unique_id e cidade e estado"
      ]
    },
    {
      "cell_type": "code",
      "metadata": {
        "id": "YFt9Ba2gZQrV"
      },
      "source": [
        "orders = orders.merge(customers, how = 'left', left_on= 'customer_id', right_on='customer_id') "
      ],
      "execution_count": null,
      "outputs": []
    },
    {
      "cell_type": "markdown",
      "metadata": {
        "id": "Xq4P9sb9-_od"
      },
      "source": [
        "O que interessa no order_items é o product_id, removo as colunas que não interessam e deixo apenas order_id e product_id no dataframe order_items\r\n"
      ]
    },
    {
      "cell_type": "code",
      "metadata": {
        "id": "rdil3EPTRAbN"
      },
      "source": [
        "orders = orders.merge(order_items.drop(labels=[ 'order_item_id', 'seller_id',\n",
        "       'shipping_limit_date', 'price', 'freight_value'], axis= 1).drop_duplicates(), how= 'left',left_on ='order_id',right_on = 'order_id')"
      ],
      "execution_count": null,
      "outputs": []
    },
    {
      "cell_type": "markdown",
      "metadata": {
        "id": "1gYJ1NmM7maB"
      },
      "source": [
        "Faço merge com a tabela products e consifo informações de categoria do produto, quantas fotos ele tem, qual o tamanho da descrição, etc."
      ]
    },
    {
      "cell_type": "code",
      "metadata": {
        "id": "jTDvHKGyTJKQ"
      },
      "source": [
        "orders = orders.merge(products, how='left', left_on='product_id', right_on='product_id')  \n",
        "orders.head()"
      ],
      "execution_count": null,
      "outputs": []
    },
    {
      "cell_type": "markdown",
      "metadata": {
        "id": "UJmdaLgNIZhu"
      },
      "source": [
        "Vou contar a quantidade de order_id por customer_unique_id assim tereia a quantidade de compras que o consumidor já fez\r\n",
        "\r\n"
      ]
    },
    {
      "cell_type": "code",
      "metadata": {
        "id": "3brWWp1bGmAg"
      },
      "source": [
        "qtd_pedidos = orders[['order_id', 'customer_id','customer_unique_id']].groupby('customer_unique_id', as_index= False).count()"
      ],
      "execution_count": null,
      "outputs": []
    },
    {
      "cell_type": "code",
      "metadata": {
        "id": "fBujW8fs82be"
      },
      "source": [
        "qtd_pedidos.head()"
      ],
      "execution_count": null,
      "outputs": []
    },
    {
      "cell_type": "code",
      "metadata": {
        "id": "ueyJhhch9a9T"
      },
      "source": [
        "qtd_pedidos['order_id'].value_counts()"
      ],
      "execution_count": null,
      "outputs": []
    },
    {
      "cell_type": "markdown",
      "metadata": {
        "id": "gXhyEZo_Jbrv"
      },
      "source": [
        "Faço merge com a tabela Orders para trazer essa informação de quantidade de pedidos"
      ]
    },
    {
      "cell_type": "code",
      "metadata": {
        "id": "X4bORjXgYiWu"
      },
      "source": [
        "orders = orders.merge(qtd_pedidos, how='left', left_on='customer_unique_id', right_on='customer_unique_id', suffixes=['','_qtd'])"
      ],
      "execution_count": null,
      "outputs": []
    },
    {
      "cell_type": "code",
      "metadata": {
        "id": "3Q9nqcoBVIk_"
      },
      "source": [
        "orders.shape"
      ],
      "execution_count": null,
      "outputs": []
    },
    {
      "cell_type": "markdown",
      "metadata": {
        "id": "yuqilH-x-0ad"
      },
      "source": [
        "Fiz uma ordenação das notas pela mais recente até a mais antiga, removi duplicadas a partir do order_id e mantive a primeira que é a review_score mais recente"
      ]
    },
    {
      "cell_type": "code",
      "metadata": {
        "id": "fqby259TScv_"
      },
      "source": [
        "order_review = order_review.sort_values('review_creation_date', ascending= False).drop_duplicates(subset= 'order_id', keep='first')"
      ],
      "execution_count": null,
      "outputs": []
    },
    {
      "cell_type": "code",
      "metadata": {
        "id": "nocK3vc2TqFJ"
      },
      "source": [
        "orders = orders.merge(order_review, how= 'left', left_on='order_id',right_on='order_id')  "
      ],
      "execution_count": null,
      "outputs": []
    },
    {
      "cell_type": "code",
      "metadata": {
        "id": "_zxNEkbtYZg6"
      },
      "source": [
        "orders.shape"
      ],
      "execution_count": null,
      "outputs": []
    },
    {
      "cell_type": "code",
      "metadata": {
        "id": "wHZQcGQz_D_T"
      },
      "source": [
        "orders.columns"
      ],
      "execution_count": null,
      "outputs": []
    },
    {
      "cell_type": "markdown",
      "metadata": {
        "id": "lOnvKmDa7mKq"
      },
      "source": [
        "##4 -  exploração dos dados**\r\n"
      ]
    },
    {
      "cell_type": "code",
      "metadata": {
        "id": "6cNbeChUWJlh"
      },
      "source": [
        "orders['order_status'].value_counts()"
      ],
      "execution_count": null,
      "outputs": []
    },
    {
      "cell_type": "code",
      "metadata": {
        "id": "uzMRwLafWMI3"
      },
      "source": [
        "orders = orders.loc[orders['order_status'] == 'delivered']"
      ],
      "execution_count": null,
      "outputs": []
    },
    {
      "cell_type": "code",
      "metadata": {
        "id": "lQXbBAIWWTbs"
      },
      "source": [
        "orders.shape"
      ],
      "execution_count": null,
      "outputs": []
    },
    {
      "cell_type": "markdown",
      "metadata": {
        "id": "oh9nr8NVaf6n"
      },
      "source": [
        "Calculando a diferença entre a data da entrega e a data esperada da entrega"
      ]
    },
    {
      "cell_type": "code",
      "metadata": {
        "id": "NW3QmsbG23Bz"
      },
      "source": [
        "orders['atrasoentrega'] = (orders.order_delivered_customer_date - orders.order_estimated_delivery_date)"
      ],
      "execution_count": null,
      "outputs": []
    },
    {
      "cell_type": "code",
      "metadata": {
        "id": "RDY031sNaqEK"
      },
      "source": [
        "orders['atrasoentrega'] = pd.to_numeric(orders['atrasoentrega'].dt.days, downcast='integer')"
      ],
      "execution_count": null,
      "outputs": []
    },
    {
      "cell_type": "code",
      "metadata": {
        "id": "YBDbbOQ5naXL"
      },
      "source": [
        "orders['prazo_entrega'] = (orders.order_estimated_delivery_date - orders.order_purchase_timestamp)\r\n",
        "orders['prazo_entrega'] = pd.to_numeric(orders['prazo_entrega'].dt.days, downcast='integer')"
      ],
      "execution_count": null,
      "outputs": []
    },
    {
      "cell_type": "markdown",
      "metadata": {
        "id": "XaXfFxr5qVq4"
      },
      "source": [
        "Algumas variáveis categóricas como customer_state e product_category_name podem agregar no modelo por isso tranformei ela em números para usarmos"
      ]
    },
    {
      "cell_type": "code",
      "metadata": {
        "id": "iLoKrJJqmrIk"
      },
      "source": [
        "orders['product_category_name'].value_counts()"
      ],
      "execution_count": null,
      "outputs": []
    },
    {
      "cell_type": "code",
      "metadata": {
        "id": "Ia60LkIpn14S"
      },
      "source": [
        "orders['customer_state'].value_counts()"
      ],
      "execution_count": null,
      "outputs": []
    },
    {
      "cell_type": "code",
      "metadata": {
        "id": "26Kz5Uaen0pz"
      },
      "source": [
        "orders['customer_state'] = orders['customer_state'].astype('category')\r\n",
        "orders['product_category_name'] = orders['product_category_name'].astype('category')"
      ],
      "execution_count": null,
      "outputs": []
    },
    {
      "cell_type": "code",
      "metadata": {
        "id": "v9YxQ0QRn_2I"
      },
      "source": [
        "categoricas = orders.select_dtypes(['category']).columns"
      ],
      "execution_count": null,
      "outputs": []
    },
    {
      "cell_type": "code",
      "metadata": {
        "id": "zhd3_FBzoOXP"
      },
      "source": [
        "orders[categoricas] = orders[categoricas].apply(lambda x: x.cat.codes)"
      ],
      "execution_count": null,
      "outputs": []
    },
    {
      "cell_type": "code",
      "metadata": {
        "id": "1eLQqxhYoSyH"
      },
      "source": [
        "orders.head()"
      ],
      "execution_count": null,
      "outputs": []
    },
    {
      "cell_type": "markdown",
      "metadata": {
        "id": "sykUuruDwGc6"
      },
      "source": [
        "Ordenar a product_value do maior para o menor e dar um drop_duplicate pelo order_id para manter o maior (keep first) ou manter o pedido de menor valor (keep last). Analisar os dois mas remover os ORDER_ID DUPLICADAS"
      ]
    },
    {
      "cell_type": "code",
      "metadata": {
        "id": "OKi5tK6EPEi0"
      },
      "source": [
        "orders['order_id'].value_counts()"
      ],
      "execution_count": null,
      "outputs": []
    },
    {
      "cell_type": "code",
      "metadata": {
        "id": "O0gtM1_fwFT5"
      },
      "source": [
        "orders = orders.sort_values('order_products_value') #do menor para o maior"
      ],
      "execution_count": null,
      "outputs": []
    },
    {
      "cell_type": "code",
      "metadata": {
        "id": "uLmhhAw5wRRr"
      },
      "source": [
        "orders_1 = orders.drop_duplicates(subset= 'order_id', keep= 'last') #deixando o pedido de maior valor"
      ],
      "execution_count": null,
      "outputs": []
    },
    {
      "cell_type": "code",
      "metadata": {
        "id": "PPrxA9_FwoRg"
      },
      "source": [
        "orders_2 = orders.drop_duplicates(subset= 'order_id', keep= 'first') #deixando o pedido de menor valor"
      ],
      "execution_count": null,
      "outputs": []
    },
    {
      "cell_type": "code",
      "metadata": {
        "id": "qgfxXZ6q5lXF"
      },
      "source": [
        "dados = orders_1[['order_products_value','order_freight_value','order_id_qtd','product_category_name',\n",
        "                  'customer_state','product_description_lenght', \n",
        "                 'product_photos_qty', 'review_score','atrasoentrega','prazo_entrega']]"
      ],
      "execution_count": null,
      "outputs": []
    },
    {
      "cell_type": "code",
      "metadata": {
        "id": "W1r-1L7Mx42C"
      },
      "source": [
        "dados.shape"
      ],
      "execution_count": null,
      "outputs": []
    },
    {
      "cell_type": "code",
      "metadata": {
        "id": "Y7XMu91wikoN"
      },
      "source": [
        "dados.hist(column='review_score',    # Coluna a ser plotada\r\n",
        "                   figsize=(9,6),   # Tamanho do gráfico\r\n",
        "                   bins=20)  "
      ],
      "execution_count": null,
      "outputs": []
    },
    {
      "cell_type": "code",
      "metadata": {
        "id": "KPCMdtV-jBQa"
      },
      "source": [
        "dados.plot(x = 'review_score', y= 'atrasoentrega', style='o')"
      ],
      "execution_count": null,
      "outputs": []
    },
    {
      "cell_type": "code",
      "metadata": {
        "id": "nfTHcMrdGvNt"
      },
      "source": [
        "dados.corr()"
      ],
      "execution_count": null,
      "outputs": []
    },
    {
      "cell_type": "code",
      "metadata": {
        "id": "xw6BZNCzCohK"
      },
      "source": [
        "dados = dados.loc[(dados['atrasoentrega'] < (dados['atrasoentrega'].mean()+(2*dados['atrasoentrega'].std()))) & \r\n",
        "                  (dados['atrasoentrega'] > (dados['atrasoentrega'].mean()-(2*dados['atrasoentrega'].std())))]"
      ],
      "execution_count": null,
      "outputs": []
    },
    {
      "cell_type": "code",
      "metadata": {
        "id": "E3S6VLgfyP3B"
      },
      "source": [
        "dados.shape"
      ],
      "execution_count": null,
      "outputs": []
    },
    {
      "cell_type": "code",
      "metadata": {
        "id": "L7gHGUGARs7V"
      },
      "source": [
        "dados['review_score'].value_counts()"
      ],
      "execution_count": null,
      "outputs": []
    },
    {
      "cell_type": "code",
      "metadata": {
        "id": "YCKZDMXL6nyW"
      },
      "source": [
        "a_trocar = {\n",
        "    0 : 0,\n",
        "    1 : 0,\n",
        "    2 : 0,\n",
        "    3 : 0,\n",
        "    4 : 1,\n",
        "    5 : 1\n",
        "}\n",
        "dados.review_score = dados.review_score.map(a_trocar)"
      ],
      "execution_count": null,
      "outputs": []
    },
    {
      "cell_type": "code",
      "metadata": {
        "id": "sz-PytMDLYUR"
      },
      "source": [
        "dados['review_score'].value_counts()"
      ],
      "execution_count": null,
      "outputs": []
    },
    {
      "cell_type": "code",
      "metadata": {
        "id": "xUjGn5GlKiJf"
      },
      "source": [
        "dados.info()"
      ],
      "execution_count": null,
      "outputs": []
    },
    {
      "cell_type": "code",
      "metadata": {
        "id": "KcGWSr4BFotJ"
      },
      "source": [
        "dados = dados.fillna(0)"
      ],
      "execution_count": null,
      "outputs": []
    },
    {
      "cell_type": "code",
      "metadata": {
        "id": "2YfIJgGnLoAT"
      },
      "source": [
        "dados.head()"
      ],
      "execution_count": null,
      "outputs": []
    },
    {
      "cell_type": "code",
      "metadata": {
        "id": "Yga7yE3JlaDn"
      },
      "source": [
        "dados['order_products_value'].describe()"
      ],
      "execution_count": null,
      "outputs": []
    },
    {
      "cell_type": "code",
      "metadata": {
        "id": "IjHD09UxlxUi"
      },
      "source": [
        "dados['order_freight_value'].describe()"
      ],
      "execution_count": null,
      "outputs": []
    },
    {
      "cell_type": "code",
      "metadata": {
        "id": "4TeeMd4vsoiQ"
      },
      "source": [
        "dados['order_id_qtd'].describe()"
      ],
      "execution_count": null,
      "outputs": []
    },
    {
      "cell_type": "code",
      "metadata": {
        "id": "SPeAXob4szb-"
      },
      "source": [
        "dados['product_photos_qty'].describe()"
      ],
      "execution_count": null,
      "outputs": []
    },
    {
      "cell_type": "code",
      "metadata": {
        "id": "-moXlDWhwMFU"
      },
      "source": [
        "dados['product_photos_qty'].value_counts()"
      ],
      "execution_count": null,
      "outputs": []
    },
    {
      "cell_type": "code",
      "metadata": {
        "id": "IakVrQuquE4U"
      },
      "source": [
        "dados['product_description_lenght'].describe()"
      ],
      "execution_count": null,
      "outputs": []
    },
    {
      "cell_type": "code",
      "metadata": {
        "id": "PqtvvHVUvgvV"
      },
      "source": [
        "dados['prazo_entrega'].describe()"
      ],
      "execution_count": null,
      "outputs": []
    },
    {
      "cell_type": "markdown",
      "metadata": {
        "id": "WBXA9fDROl0q"
      },
      "source": [
        "##Separando bases treino e teste"
      ]
    },
    {
      "cell_type": "code",
      "metadata": {
        "id": "fuFxhAVz52Rq"
      },
      "source": [
        "x = dados[['order_freight_value','order_products_value','atrasoentrega','product_photos_qty','product_description_lenght',\n",
        "                'customer_state','prazo_entrega', 'product_category_name','order_id_qtd']]\n",
        "y = dados['review_score']\n",
        "\n",
        "SEED = 5\n",
        "np.random.seed(SEED)\n",
        "treino_x, teste_x, treino_y, teste_y = train_test_split(x, y, test_size = 0.25,\n",
        "                                                         stratify = y)\n",
        "print(\"Treinaremos com %d elementos e testaremos com %d elementos\" % (len(treino_x), len(teste_x)))\n"
      ],
      "execution_count": null,
      "outputs": []
    },
    {
      "cell_type": "code",
      "metadata": {
        "id": "7RXvRcTktZOH"
      },
      "source": [
        "dummy_stratified = DummyClassifier()\r\n",
        "dummy_stratified.fit(treino_x, treino_y)\r\n",
        "acuracia = dummy_stratified.score(teste_x, teste_y) * 100\r\n",
        "\r\n",
        "print(\"A acurácia do dummy stratified foi %.2f%%\" % acuracia)"
      ],
      "execution_count": null,
      "outputs": []
    },
    {
      "cell_type": "markdown",
      "metadata": {
        "id": "ZS7VVEO3MYw9"
      },
      "source": [
        "##Naive Bayes"
      ]
    },
    {
      "cell_type": "code",
      "metadata": {
        "id": "tuXM5cIMMXyv"
      },
      "source": [
        "gnb = GaussianNB()\n",
        "y_pred = gnb.fit(treino_x,treino_y).predict(teste_x)\n",
        "\n",
        "ac = gnb.score(teste_x, teste_y)\n",
        "\n",
        "print(\"\\nAcurácia do modelo: {0:.2f}%\\n\".format(100*ac))"
      ],
      "execution_count": null,
      "outputs": []
    },
    {
      "cell_type": "code",
      "metadata": {
        "id": "L2wpL5bnNhCF"
      },
      "source": [
        "print(metrics.classification_report(teste_y,y_pred))"
      ],
      "execution_count": null,
      "outputs": []
    },
    {
      "cell_type": "code",
      "metadata": {
        "id": "IXrpVGj0aEvN"
      },
      "source": [
        "plt.hist([teste_y, y_pred])"
      ],
      "execution_count": null,
      "outputs": []
    },
    {
      "cell_type": "markdown",
      "metadata": {
        "id": "CK-u8-YJVUu1"
      },
      "source": [
        "##Árvore de decisão"
      ]
    },
    {
      "cell_type": "code",
      "metadata": {
        "id": "QA3LovcEVQlc"
      },
      "source": [
        "modelo = DecisionTreeClassifier(max_depth=3)\n",
        "modelo.fit(treino_x, treino_y)\n",
        "previsoes = modelo.predict(teste_x)\n",
        "\n",
        "acuracia = accuracy_score(teste_y, previsoes) * 100\n",
        "print(\"A acurácia foi %.2f%%\" % acuracia)"
      ],
      "execution_count": null,
      "outputs": []
    },
    {
      "cell_type": "code",
      "metadata": {
        "id": "PQnP1-tybELc"
      },
      "source": [
        "print(metrics.classification_report(teste_y,previsoes))"
      ],
      "execution_count": null,
      "outputs": []
    },
    {
      "cell_type": "code",
      "metadata": {
        "id": "oqpfNtNSZB29"
      },
      "source": [
        "plt.hist([teste_y, previsoes])"
      ],
      "execution_count": null,
      "outputs": []
    },
    {
      "cell_type": "code",
      "metadata": {
        "id": "8ZCVLKpDlrFD"
      },
      "source": [
        "dot_data = tree.export_graphviz( \r\n",
        "         modelo, \r\n",
        "         out_file=None,\r\n",
        "         feature_names=['order_freight_value','order_products_value','atrasoentrega','product_photos_qty','product_description_lenght',\r\n",
        "                'customer_state','prazo_entrega','product_category_name','order_id_qtd'],\r\n",
        "         class_names=['0','1'],  \r\n",
        "         filled=True, rounded=True,\r\n",
        "         proportion=True,\r\n",
        "         node_ids=True,\r\n",
        "         rotate=False,\r\n",
        "         label='all',\r\n",
        "         special_characters=True\r\n",
        "        )  \r\n",
        "graph = graphviz.Source(dot_data)  \r\n",
        "graph"
      ],
      "execution_count": null,
      "outputs": []
    },
    {
      "cell_type": "code",
      "metadata": {
        "id": "EDe9raNDinc0"
      },
      "source": [
        ""
      ],
      "execution_count": null,
      "outputs": []
    }
  ]
}