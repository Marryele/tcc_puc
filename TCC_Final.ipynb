{
  "nbformat": 4,
  "nbformat_minor": 0,
  "metadata": {
    "colab": {
      "name": "TCC - Final.ipynb",
      "provenance": [],
      "collapsed_sections": []
    },
    "kernelspec": {
      "name": "python3",
      "display_name": "Python 3"
    }
  },
  "cells": [
    {
      "cell_type": "markdown",
      "metadata": {
        "id": "zyZcbPKEUsAf"
      },
      "source": [
        "## TCC - Marryele Moniê\n",
        "Especialização em Ciências de Dados e Big Data - 2019\n",
        "---\n",
        "\n",
        "\n"
      ]
    },
    {
      "cell_type": "markdown",
      "metadata": {
        "id": "JesAyp5Ilykp"
      },
      "source": [
        "Importação de bibliotecas para usar nos códigos\r\n"
      ]
    },
    {
      "cell_type": "code",
      "metadata": {
        "colab": {
          "base_uri": "https://localhost:8080/"
        },
        "id": "6ClwaMl4OOi2",
        "outputId": "e6829985-da7b-4e97-e6bf-60ec25fe0eb3"
      },
      "source": [
        "\r\n",
        "!pip install ipywidgets\r\n",
        "!pip3 install graphviz\r\n",
        "!pip3 install pydot"
      ],
      "execution_count": 1,
      "outputs": [
        {
          "output_type": "stream",
          "text": [
            "Requirement already satisfied: ipywidgets in /usr/local/lib/python3.6/dist-packages (7.5.1)\n",
            "Requirement already satisfied: widgetsnbextension~=3.5.0 in /usr/local/lib/python3.6/dist-packages (from ipywidgets) (3.5.1)\n",
            "Requirement already satisfied: ipykernel>=4.5.1 in /usr/local/lib/python3.6/dist-packages (from ipywidgets) (4.10.1)\n",
            "Requirement already satisfied: nbformat>=4.2.0 in /usr/local/lib/python3.6/dist-packages (from ipywidgets) (5.0.8)\n",
            "Requirement already satisfied: ipython>=4.0.0; python_version >= \"3.3\" in /usr/local/lib/python3.6/dist-packages (from ipywidgets) (5.5.0)\n",
            "Requirement already satisfied: traitlets>=4.3.1 in /usr/local/lib/python3.6/dist-packages (from ipywidgets) (4.3.3)\n",
            "Requirement already satisfied: notebook>=4.4.1 in /usr/local/lib/python3.6/dist-packages (from widgetsnbextension~=3.5.0->ipywidgets) (5.3.1)\n",
            "Requirement already satisfied: jupyter-client in /usr/local/lib/python3.6/dist-packages (from ipykernel>=4.5.1->ipywidgets) (5.3.5)\n",
            "Requirement already satisfied: tornado>=4.0 in /usr/local/lib/python3.6/dist-packages (from ipykernel>=4.5.1->ipywidgets) (5.1.1)\n",
            "Requirement already satisfied: jupyter-core in /usr/local/lib/python3.6/dist-packages (from nbformat>=4.2.0->ipywidgets) (4.7.0)\n",
            "Requirement already satisfied: ipython-genutils in /usr/local/lib/python3.6/dist-packages (from nbformat>=4.2.0->ipywidgets) (0.2.0)\n",
            "Requirement already satisfied: jsonschema!=2.5.0,>=2.4 in /usr/local/lib/python3.6/dist-packages (from nbformat>=4.2.0->ipywidgets) (2.6.0)\n",
            "Requirement already satisfied: pygments in /usr/local/lib/python3.6/dist-packages (from ipython>=4.0.0; python_version >= \"3.3\"->ipywidgets) (2.6.1)\n",
            "Requirement already satisfied: decorator in /usr/local/lib/python3.6/dist-packages (from ipython>=4.0.0; python_version >= \"3.3\"->ipywidgets) (4.4.2)\n",
            "Requirement already satisfied: pexpect; sys_platform != \"win32\" in /usr/local/lib/python3.6/dist-packages (from ipython>=4.0.0; python_version >= \"3.3\"->ipywidgets) (4.8.0)\n",
            "Requirement already satisfied: prompt-toolkit<2.0.0,>=1.0.4 in /usr/local/lib/python3.6/dist-packages (from ipython>=4.0.0; python_version >= \"3.3\"->ipywidgets) (1.0.18)\n",
            "Requirement already satisfied: setuptools>=18.5 in /usr/local/lib/python3.6/dist-packages (from ipython>=4.0.0; python_version >= \"3.3\"->ipywidgets) (51.0.0)\n",
            "Requirement already satisfied: simplegeneric>0.8 in /usr/local/lib/python3.6/dist-packages (from ipython>=4.0.0; python_version >= \"3.3\"->ipywidgets) (0.8.1)\n",
            "Requirement already satisfied: pickleshare in /usr/local/lib/python3.6/dist-packages (from ipython>=4.0.0; python_version >= \"3.3\"->ipywidgets) (0.7.5)\n",
            "Requirement already satisfied: six in /usr/local/lib/python3.6/dist-packages (from traitlets>=4.3.1->ipywidgets) (1.15.0)\n",
            "Requirement already satisfied: Send2Trash in /usr/local/lib/python3.6/dist-packages (from notebook>=4.4.1->widgetsnbextension~=3.5.0->ipywidgets) (1.5.0)\n",
            "Requirement already satisfied: nbconvert in /usr/local/lib/python3.6/dist-packages (from notebook>=4.4.1->widgetsnbextension~=3.5.0->ipywidgets) (5.6.1)\n",
            "Requirement already satisfied: jinja2 in /usr/local/lib/python3.6/dist-packages (from notebook>=4.4.1->widgetsnbextension~=3.5.0->ipywidgets) (2.11.2)\n",
            "Requirement already satisfied: terminado>=0.8.1 in /usr/local/lib/python3.6/dist-packages (from notebook>=4.4.1->widgetsnbextension~=3.5.0->ipywidgets) (0.9.1)\n",
            "Requirement already satisfied: python-dateutil>=2.1 in /usr/local/lib/python3.6/dist-packages (from jupyter-client->ipykernel>=4.5.1->ipywidgets) (2.8.1)\n",
            "Requirement already satisfied: pyzmq>=13 in /usr/local/lib/python3.6/dist-packages (from jupyter-client->ipykernel>=4.5.1->ipywidgets) (20.0.0)\n",
            "Requirement already satisfied: ptyprocess>=0.5 in /usr/local/lib/python3.6/dist-packages (from pexpect; sys_platform != \"win32\"->ipython>=4.0.0; python_version >= \"3.3\"->ipywidgets) (0.6.0)\n",
            "Requirement already satisfied: wcwidth in /usr/local/lib/python3.6/dist-packages (from prompt-toolkit<2.0.0,>=1.0.4->ipython>=4.0.0; python_version >= \"3.3\"->ipywidgets) (0.2.5)\n",
            "Requirement already satisfied: entrypoints>=0.2.2 in /usr/local/lib/python3.6/dist-packages (from nbconvert->notebook>=4.4.1->widgetsnbextension~=3.5.0->ipywidgets) (0.3)\n",
            "Requirement already satisfied: defusedxml in /usr/local/lib/python3.6/dist-packages (from nbconvert->notebook>=4.4.1->widgetsnbextension~=3.5.0->ipywidgets) (0.6.0)\n",
            "Requirement already satisfied: mistune<2,>=0.8.1 in /usr/local/lib/python3.6/dist-packages (from nbconvert->notebook>=4.4.1->widgetsnbextension~=3.5.0->ipywidgets) (0.8.4)\n",
            "Requirement already satisfied: bleach in /usr/local/lib/python3.6/dist-packages (from nbconvert->notebook>=4.4.1->widgetsnbextension~=3.5.0->ipywidgets) (3.2.1)\n",
            "Requirement already satisfied: testpath in /usr/local/lib/python3.6/dist-packages (from nbconvert->notebook>=4.4.1->widgetsnbextension~=3.5.0->ipywidgets) (0.4.4)\n",
            "Requirement already satisfied: pandocfilters>=1.4.1 in /usr/local/lib/python3.6/dist-packages (from nbconvert->notebook>=4.4.1->widgetsnbextension~=3.5.0->ipywidgets) (1.4.3)\n",
            "Requirement already satisfied: MarkupSafe>=0.23 in /usr/local/lib/python3.6/dist-packages (from jinja2->notebook>=4.4.1->widgetsnbextension~=3.5.0->ipywidgets) (1.1.1)\n",
            "Requirement already satisfied: webencodings in /usr/local/lib/python3.6/dist-packages (from bleach->nbconvert->notebook>=4.4.1->widgetsnbextension~=3.5.0->ipywidgets) (0.5.1)\n",
            "Requirement already satisfied: packaging in /usr/local/lib/python3.6/dist-packages (from bleach->nbconvert->notebook>=4.4.1->widgetsnbextension~=3.5.0->ipywidgets) (20.8)\n",
            "Requirement already satisfied: pyparsing>=2.0.2 in /usr/local/lib/python3.6/dist-packages (from packaging->bleach->nbconvert->notebook>=4.4.1->widgetsnbextension~=3.5.0->ipywidgets) (2.4.7)\n",
            "Requirement already satisfied: graphviz in /usr/local/lib/python3.6/dist-packages (0.10.1)\n",
            "Requirement already satisfied: pydot in /usr/local/lib/python3.6/dist-packages (1.3.0)\n",
            "Requirement already satisfied: pyparsing>=2.1.4 in /usr/local/lib/python3.6/dist-packages (from pydot) (2.4.7)\n"
          ],
          "name": "stdout"
        }
      ]
    },
    {
      "cell_type": "code",
      "metadata": {
        "id": "SZ-QsQ6jlyEm"
      },
      "source": [
        "import numpy as np # linear algebra\r\n",
        "import pandas as pd # data processing, CSV file I/O (e.g. pd.read_csv)\r\n",
        "import matplotlib.pyplot as plt\r\n",
        "import datetime as dt\r\n",
        "\r\n",
        "from sklearn.model_selection import train_test_split\r\n",
        "from sklearn.svm import LinearSVC\r\n",
        "from sklearn.dummy import DummyClassifier\r\n",
        "from sklearn.metrics import accuracy_score\r\n",
        "\r\n",
        "from sklearn.preprocessing import StandardScaler\r\n",
        "from sklearn.tree import DecisionTreeClassifier\r\n",
        "from sklearn import metrics\r\n",
        "\r\n",
        "from sklearn.naive_bayes import GaussianNB\r\n",
        "from sklearn.metrics import confusion_matrix, classification_report\r\n",
        "\r\n",
        "from sklearn.ensemble import RandomForestRegressor\r\n",
        "from sklearn.metrics import mean_squared_error\r\n",
        "\r\n",
        "from sklearn.preprocessing import StandardScaler\r\n",
        "from sklearn.svm import SVC\r\n",
        "from sklearn import svm\r\n",
        "\r\n",
        "from matplotlib import pyplot as plt\r\n",
        "\r\n",
        "import pydot\r\n",
        "import graphviz\r\n",
        "from sklearn import tree"
      ],
      "execution_count": 2,
      "outputs": []
    },
    {
      "cell_type": "code",
      "metadata": {
        "id": "kdkNVYvLeFbP"
      },
      "source": [
        "import numpy as np # linear algebra\r\n",
        "import pandas as pd # data processing, CSV file I/O (e.g. pd.read_csv)\r\n",
        "import matplotlib.pyplot as plt\r\n",
        "import datetime as dt\r\n",
        "\r\n",
        "from sklearn.model_selection import train_test_split\r\n",
        "from sklearn.dummy import DummyClassifier\r\n",
        "from sklearn.metrics import accuracy_score\r\n",
        "\r\n",
        "from sklearn.tree import DecisionTreeClassifier\r\n",
        "from sklearn import metrics\r\n",
        "\r\n",
        "from sklearn.naive_bayes import GaussianNB\r\n",
        "\r\n",
        "from matplotlib import pyplot as plt\r\n",
        "\r\n",
        "import pydot\r\n",
        "import graphviz\r\n",
        "from sklearn import tree"
      ],
      "execution_count": 3,
      "outputs": []
    },
    {
      "cell_type": "markdown",
      "metadata": {
        "id": "6iv4nkraoKDJ"
      },
      "source": [
        "Carregando dados\r\n"
      ]
    },
    {
      "cell_type": "code",
      "metadata": {
        "id": "-uJ7HGjDoJEf"
      },
      "source": [
        "orders = pd.read_csv('https://raw.githubusercontent.com/Marryele/tcc_puc/main/olist_orders_dataset.csv')\r\n",
        " \r\n",
        "customers = pd.read_csv(\"https://raw.githubusercontent.com/Marryele/tcc_puc/main/olist_customers_dataset.csv\") \r\n",
        "\r\n",
        "order_items = pd.read_csv('https://raw.githubusercontent.com/Marryele/tcc_puc/main/olist_order_items_dataset.csv') \r\n",
        "\r\n",
        "products = pd.read_csv('https://raw.githubusercontent.com/Marryele/tcc_puc/main/olist_products_dataset.csv')  \r\n",
        "\r\n",
        "order_review = pd.read_csv('https://raw.githubusercontent.com/Marryele/tcc_puc/main/olist_order_reviews_dataset.csv') "
      ],
      "execution_count": 4,
      "outputs": []
    },
    {
      "cell_type": "code",
      "metadata": {
        "id": "F8eu_PFbN4HO"
      },
      "source": [
        "# converting to datetime para fazer a diferença de dias de atraso posteriormente\n",
        "orders['order_purchase_timestamp'] = pd.to_datetime(orders.order_purchase_timestamp).dt.date\n",
        "orders['order_estimated_delivery_date'] = pd.to_datetime(orders.order_estimated_delivery_date).dt.date  \n",
        "orders['order_delivered_customer_date'] = pd.to_datetime(orders.order_delivered_customer_date).dt.date  \n"
      ],
      "execution_count": 5,
      "outputs": []
    },
    {
      "cell_type": "code",
      "metadata": {
        "colab": {
          "base_uri": "https://localhost:8080/"
        },
        "id": "b29TQGISpLac",
        "outputId": "4f1f2463-6945-4f11-ff28-4ebed05c0b07"
      },
      "source": [
        "orders.info()"
      ],
      "execution_count": 6,
      "outputs": [
        {
          "output_type": "stream",
          "text": [
            "<class 'pandas.core.frame.DataFrame'>\n",
            "RangeIndex: 99441 entries, 0 to 99440\n",
            "Data columns (total 8 columns):\n",
            " #   Column                         Non-Null Count  Dtype \n",
            "---  ------                         --------------  ----- \n",
            " 0   order_id                       99441 non-null  object\n",
            " 1   customer_id                    99441 non-null  object\n",
            " 2   order_status                   99441 non-null  object\n",
            " 3   order_purchase_timestamp       99441 non-null  object\n",
            " 4   order_approved_at              99281 non-null  object\n",
            " 5   order_delivered_carrier_date   97658 non-null  object\n",
            " 6   order_delivered_customer_date  96476 non-null  object\n",
            " 7   order_estimated_delivery_date  99441 non-null  object\n",
            "dtypes: object(8)\n",
            "memory usage: 6.1+ MB\n"
          ],
          "name": "stdout"
        }
      ]
    },
    {
      "cell_type": "code",
      "metadata": {
        "colab": {
          "base_uri": "https://localhost:8080/"
        },
        "id": "fJDboECBqTKf",
        "outputId": "f28ebc79-a3b1-4419-996f-21f7d81d80f7"
      },
      "source": [
        "order_items.info()"
      ],
      "execution_count": 7,
      "outputs": [
        {
          "output_type": "stream",
          "text": [
            "<class 'pandas.core.frame.DataFrame'>\n",
            "RangeIndex: 112650 entries, 0 to 112649\n",
            "Data columns (total 7 columns):\n",
            " #   Column               Non-Null Count   Dtype  \n",
            "---  ------               --------------   -----  \n",
            " 0   order_id             112650 non-null  object \n",
            " 1   order_item_id        112650 non-null  int64  \n",
            " 2   product_id           112650 non-null  object \n",
            " 3   seller_id            112650 non-null  object \n",
            " 4   shipping_limit_date  112650 non-null  object \n",
            " 5   price                112650 non-null  float64\n",
            " 6   freight_value        112650 non-null  float64\n",
            "dtypes: float64(2), int64(1), object(4)\n",
            "memory usage: 6.0+ MB\n"
          ],
          "name": "stdout"
        }
      ]
    },
    {
      "cell_type": "code",
      "metadata": {
        "colab": {
          "base_uri": "https://localhost:8080/"
        },
        "id": "Arb3E2p1qaPY",
        "outputId": "e510ca85-240a-4782-e2b4-bb43f6066d6e"
      },
      "source": [
        "customers.info()"
      ],
      "execution_count": 8,
      "outputs": [
        {
          "output_type": "stream",
          "text": [
            "<class 'pandas.core.frame.DataFrame'>\n",
            "RangeIndex: 99441 entries, 0 to 99440\n",
            "Data columns (total 5 columns):\n",
            " #   Column                    Non-Null Count  Dtype \n",
            "---  ------                    --------------  ----- \n",
            " 0   customer_id               99441 non-null  object\n",
            " 1   customer_unique_id        99441 non-null  object\n",
            " 2   customer_zip_code_prefix  99441 non-null  int64 \n",
            " 3   customer_city             99441 non-null  object\n",
            " 4   customer_state            99441 non-null  object\n",
            "dtypes: int64(1), object(4)\n",
            "memory usage: 3.8+ MB\n"
          ],
          "name": "stdout"
        }
      ]
    },
    {
      "cell_type": "code",
      "metadata": {
        "colab": {
          "base_uri": "https://localhost:8080/"
        },
        "id": "DGyps-C0qe7R",
        "outputId": "29c349ff-518e-4154-8abd-d18cd801fe1d"
      },
      "source": [
        "products.info()"
      ],
      "execution_count": 9,
      "outputs": [
        {
          "output_type": "stream",
          "text": [
            "<class 'pandas.core.frame.DataFrame'>\n",
            "RangeIndex: 32951 entries, 0 to 32950\n",
            "Data columns (total 9 columns):\n",
            " #   Column                      Non-Null Count  Dtype  \n",
            "---  ------                      --------------  -----  \n",
            " 0   product_id                  32951 non-null  object \n",
            " 1   product_category_name       32341 non-null  object \n",
            " 2   product_name_lenght         32341 non-null  float64\n",
            " 3   product_description_lenght  32341 non-null  float64\n",
            " 4   product_photos_qty          32341 non-null  float64\n",
            " 5   product_weight_g            32949 non-null  float64\n",
            " 6   product_length_cm           32949 non-null  float64\n",
            " 7   product_height_cm           32949 non-null  float64\n",
            " 8   product_width_cm            32949 non-null  float64\n",
            "dtypes: float64(7), object(2)\n",
            "memory usage: 2.3+ MB\n"
          ],
          "name": "stdout"
        }
      ]
    },
    {
      "cell_type": "code",
      "metadata": {
        "colab": {
          "base_uri": "https://localhost:8080/"
        },
        "id": "bXaO6K58qnMZ",
        "outputId": "0296b725-774d-4dbb-c7f2-03b92e7bef99"
      },
      "source": [
        "order_review.info()"
      ],
      "execution_count": 10,
      "outputs": [
        {
          "output_type": "stream",
          "text": [
            "<class 'pandas.core.frame.DataFrame'>\n",
            "RangeIndex: 100000 entries, 0 to 99999\n",
            "Data columns (total 7 columns):\n",
            " #   Column                   Non-Null Count   Dtype \n",
            "---  ------                   --------------   ----- \n",
            " 0   review_id                100000 non-null  object\n",
            " 1   order_id                 100000 non-null  object\n",
            " 2   review_score             100000 non-null  int64 \n",
            " 3   review_comment_title     11715 non-null   object\n",
            " 4   review_comment_message   41753 non-null   object\n",
            " 5   review_creation_date     100000 non-null  object\n",
            " 6   review_answer_timestamp  100000 non-null  object\n",
            "dtypes: int64(1), object(6)\n",
            "memory usage: 5.3+ MB\n"
          ],
          "name": "stdout"
        }
      ]
    },
    {
      "cell_type": "markdown",
      "metadata": {
        "id": "NdYJJO136CWQ"
      },
      "source": [
        "Faço o groupby com a função sum para somar o valor dos produtos e do frete para cada order_id e produt_id dos pedidos. Quero agregar na tabela principal essas informações de valores e frete"
      ]
    },
    {
      "cell_type": "code",
      "metadata": {
        "id": "XGgTWbovY1DX",
        "colab": {
          "base_uri": "https://localhost:8080/",
          "height": 222
        },
        "outputId": "2fa129b2-cb85-4995-be4e-d5aa73c1ac45"
      },
      "source": [
        "orders = orders.merge((order_items.groupby(['order_id','product_id' ]).sum()), how= 'left', left_on= 'order_id', right_on= 'order_id')  \n",
        "orders = orders.rename( columns= {'price': 'order_products_value', 'freight_value': 'order_freight_value'} )\n",
        "orders.head()"
      ],
      "execution_count": 11,
      "outputs": [
        {
          "output_type": "execute_result",
          "data": {
            "text/html": [
              "<div>\n",
              "<style scoped>\n",
              "    .dataframe tbody tr th:only-of-type {\n",
              "        vertical-align: middle;\n",
              "    }\n",
              "\n",
              "    .dataframe tbody tr th {\n",
              "        vertical-align: top;\n",
              "    }\n",
              "\n",
              "    .dataframe thead th {\n",
              "        text-align: right;\n",
              "    }\n",
              "</style>\n",
              "<table border=\"1\" class=\"dataframe\">\n",
              "  <thead>\n",
              "    <tr style=\"text-align: right;\">\n",
              "      <th></th>\n",
              "      <th>order_id</th>\n",
              "      <th>customer_id</th>\n",
              "      <th>order_status</th>\n",
              "      <th>order_purchase_timestamp</th>\n",
              "      <th>order_approved_at</th>\n",
              "      <th>order_delivered_carrier_date</th>\n",
              "      <th>order_delivered_customer_date</th>\n",
              "      <th>order_estimated_delivery_date</th>\n",
              "      <th>order_item_id</th>\n",
              "      <th>order_products_value</th>\n",
              "      <th>order_freight_value</th>\n",
              "    </tr>\n",
              "  </thead>\n",
              "  <tbody>\n",
              "    <tr>\n",
              "      <th>0</th>\n",
              "      <td>e481f51cbdc54678b7cc49136f2d6af7</td>\n",
              "      <td>9ef432eb6251297304e76186b10a928d</td>\n",
              "      <td>delivered</td>\n",
              "      <td>2017-10-02</td>\n",
              "      <td>2017-10-02 11:07:15</td>\n",
              "      <td>2017-10-04 19:55:00</td>\n",
              "      <td>2017-10-10</td>\n",
              "      <td>2017-10-18</td>\n",
              "      <td>1.0</td>\n",
              "      <td>29.99</td>\n",
              "      <td>8.72</td>\n",
              "    </tr>\n",
              "    <tr>\n",
              "      <th>1</th>\n",
              "      <td>53cdb2fc8bc7dce0b6741e2150273451</td>\n",
              "      <td>b0830fb4747a6c6d20dea0b8c802d7ef</td>\n",
              "      <td>delivered</td>\n",
              "      <td>2018-07-24</td>\n",
              "      <td>2018-07-26 03:24:27</td>\n",
              "      <td>2018-07-26 14:31:00</td>\n",
              "      <td>2018-08-07</td>\n",
              "      <td>2018-08-13</td>\n",
              "      <td>1.0</td>\n",
              "      <td>118.70</td>\n",
              "      <td>22.76</td>\n",
              "    </tr>\n",
              "    <tr>\n",
              "      <th>2</th>\n",
              "      <td>47770eb9100c2d0c44946d9cf07ec65d</td>\n",
              "      <td>41ce2a54c0b03bf3443c3d931a367089</td>\n",
              "      <td>delivered</td>\n",
              "      <td>2018-08-08</td>\n",
              "      <td>2018-08-08 08:55:23</td>\n",
              "      <td>2018-08-08 13:50:00</td>\n",
              "      <td>2018-08-17</td>\n",
              "      <td>2018-09-04</td>\n",
              "      <td>1.0</td>\n",
              "      <td>159.90</td>\n",
              "      <td>19.22</td>\n",
              "    </tr>\n",
              "    <tr>\n",
              "      <th>3</th>\n",
              "      <td>949d5b44dbf5de918fe9c16f97b45f8a</td>\n",
              "      <td>f88197465ea7920adcdbec7375364d82</td>\n",
              "      <td>delivered</td>\n",
              "      <td>2017-11-18</td>\n",
              "      <td>2017-11-18 19:45:59</td>\n",
              "      <td>2017-11-22 13:39:59</td>\n",
              "      <td>2017-12-02</td>\n",
              "      <td>2017-12-15</td>\n",
              "      <td>1.0</td>\n",
              "      <td>45.00</td>\n",
              "      <td>27.20</td>\n",
              "    </tr>\n",
              "    <tr>\n",
              "      <th>4</th>\n",
              "      <td>ad21c59c0840e6cb83a9ceb5573f8159</td>\n",
              "      <td>8ab97904e6daea8866dbdbc4fb7aad2c</td>\n",
              "      <td>delivered</td>\n",
              "      <td>2018-02-13</td>\n",
              "      <td>2018-02-13 22:20:29</td>\n",
              "      <td>2018-02-14 19:46:34</td>\n",
              "      <td>2018-02-16</td>\n",
              "      <td>2018-02-26</td>\n",
              "      <td>1.0</td>\n",
              "      <td>19.90</td>\n",
              "      <td>8.72</td>\n",
              "    </tr>\n",
              "  </tbody>\n",
              "</table>\n",
              "</div>"
            ],
            "text/plain": [
              "                           order_id  ... order_freight_value\n",
              "0  e481f51cbdc54678b7cc49136f2d6af7  ...                8.72\n",
              "1  53cdb2fc8bc7dce0b6741e2150273451  ...               22.76\n",
              "2  47770eb9100c2d0c44946d9cf07ec65d  ...               19.22\n",
              "3  949d5b44dbf5de918fe9c16f97b45f8a  ...               27.20\n",
              "4  ad21c59c0840e6cb83a9ceb5573f8159  ...                8.72\n",
              "\n",
              "[5 rows x 11 columns]"
            ]
          },
          "metadata": {
            "tags": []
          },
          "execution_count": 11
        }
      ]
    },
    {
      "cell_type": "markdown",
      "metadata": {
        "id": "5Kc_F9aO6qyl"
      },
      "source": [
        "Faço merge com a tabela custumers para trazer as informações do cliente, como o customer_unique_id e cidade e estado"
      ]
    },
    {
      "cell_type": "code",
      "metadata": {
        "id": "YFt9Ba2gZQrV"
      },
      "source": [
        "orders = orders.merge(customers, how = 'left', left_on= 'customer_id', right_on='customer_id') "
      ],
      "execution_count": 12,
      "outputs": []
    },
    {
      "cell_type": "markdown",
      "metadata": {
        "id": "Xq4P9sb9-_od"
      },
      "source": [
        "O que interessa no order_items é o product_id, removo as colunas que não interessam e deixo apenas order_id e product_id no dataframe order_items\r\n"
      ]
    },
    {
      "cell_type": "code",
      "metadata": {
        "id": "rdil3EPTRAbN"
      },
      "source": [
        "orders = orders.merge(order_items.drop(labels=[ 'order_item_id', 'seller_id',\n",
        "       'shipping_limit_date', 'price', 'freight_value'], axis= 1).drop_duplicates(), how= 'left',left_on ='order_id',right_on = 'order_id')"
      ],
      "execution_count": 13,
      "outputs": []
    },
    {
      "cell_type": "code",
      "metadata": {
        "id": "oosAO00X7-jv"
      },
      "source": [
        "#poderia usar a categoria do produto de maior preço comprado, \r\n",
        "#é ordenar pelo maior e dar um drop duplicate keep first"
      ],
      "execution_count": 14,
      "outputs": []
    },
    {
      "cell_type": "markdown",
      "metadata": {
        "id": "1gYJ1NmM7maB"
      },
      "source": [
        "Faço merge com a tabela products e consifo informações de categoria do produto, quantas fotos ele tem, qual o tamanho da descrição, etc."
      ]
    },
    {
      "cell_type": "code",
      "metadata": {
        "id": "jTDvHKGyTJKQ",
        "colab": {
          "base_uri": "https://localhost:8080/",
          "height": 240
        },
        "outputId": "f0ba7624-53e5-42f9-e124-637776cd282c"
      },
      "source": [
        "orders = orders.merge(products, how='left', left_on='product_id', right_on='product_id')  \n",
        "orders.head()"
      ],
      "execution_count": 15,
      "outputs": [
        {
          "output_type": "execute_result",
          "data": {
            "text/html": [
              "<div>\n",
              "<style scoped>\n",
              "    .dataframe tbody tr th:only-of-type {\n",
              "        vertical-align: middle;\n",
              "    }\n",
              "\n",
              "    .dataframe tbody tr th {\n",
              "        vertical-align: top;\n",
              "    }\n",
              "\n",
              "    .dataframe thead th {\n",
              "        text-align: right;\n",
              "    }\n",
              "</style>\n",
              "<table border=\"1\" class=\"dataframe\">\n",
              "  <thead>\n",
              "    <tr style=\"text-align: right;\">\n",
              "      <th></th>\n",
              "      <th>order_id</th>\n",
              "      <th>customer_id</th>\n",
              "      <th>order_status</th>\n",
              "      <th>order_purchase_timestamp</th>\n",
              "      <th>order_approved_at</th>\n",
              "      <th>order_delivered_carrier_date</th>\n",
              "      <th>order_delivered_customer_date</th>\n",
              "      <th>order_estimated_delivery_date</th>\n",
              "      <th>order_item_id</th>\n",
              "      <th>order_products_value</th>\n",
              "      <th>order_freight_value</th>\n",
              "      <th>customer_unique_id</th>\n",
              "      <th>customer_zip_code_prefix</th>\n",
              "      <th>customer_city</th>\n",
              "      <th>customer_state</th>\n",
              "      <th>product_id</th>\n",
              "      <th>product_category_name</th>\n",
              "      <th>product_name_lenght</th>\n",
              "      <th>product_description_lenght</th>\n",
              "      <th>product_photos_qty</th>\n",
              "      <th>product_weight_g</th>\n",
              "      <th>product_length_cm</th>\n",
              "      <th>product_height_cm</th>\n",
              "      <th>product_width_cm</th>\n",
              "    </tr>\n",
              "  </thead>\n",
              "  <tbody>\n",
              "    <tr>\n",
              "      <th>0</th>\n",
              "      <td>e481f51cbdc54678b7cc49136f2d6af7</td>\n",
              "      <td>9ef432eb6251297304e76186b10a928d</td>\n",
              "      <td>delivered</td>\n",
              "      <td>2017-10-02</td>\n",
              "      <td>2017-10-02 11:07:15</td>\n",
              "      <td>2017-10-04 19:55:00</td>\n",
              "      <td>2017-10-10</td>\n",
              "      <td>2017-10-18</td>\n",
              "      <td>1.0</td>\n",
              "      <td>29.99</td>\n",
              "      <td>8.72</td>\n",
              "      <td>7c396fd4830fd04220f754e42b4e5bff</td>\n",
              "      <td>3149</td>\n",
              "      <td>sao paulo</td>\n",
              "      <td>SP</td>\n",
              "      <td>87285b34884572647811a353c7ac498a</td>\n",
              "      <td>utilidades_domesticas</td>\n",
              "      <td>40.0</td>\n",
              "      <td>268.0</td>\n",
              "      <td>4.0</td>\n",
              "      <td>500.0</td>\n",
              "      <td>19.0</td>\n",
              "      <td>8.0</td>\n",
              "      <td>13.0</td>\n",
              "    </tr>\n",
              "    <tr>\n",
              "      <th>1</th>\n",
              "      <td>53cdb2fc8bc7dce0b6741e2150273451</td>\n",
              "      <td>b0830fb4747a6c6d20dea0b8c802d7ef</td>\n",
              "      <td>delivered</td>\n",
              "      <td>2018-07-24</td>\n",
              "      <td>2018-07-26 03:24:27</td>\n",
              "      <td>2018-07-26 14:31:00</td>\n",
              "      <td>2018-08-07</td>\n",
              "      <td>2018-08-13</td>\n",
              "      <td>1.0</td>\n",
              "      <td>118.70</td>\n",
              "      <td>22.76</td>\n",
              "      <td>af07308b275d755c9edb36a90c618231</td>\n",
              "      <td>47813</td>\n",
              "      <td>barreiras</td>\n",
              "      <td>BA</td>\n",
              "      <td>595fac2a385ac33a80bd5114aec74eb8</td>\n",
              "      <td>perfumaria</td>\n",
              "      <td>29.0</td>\n",
              "      <td>178.0</td>\n",
              "      <td>1.0</td>\n",
              "      <td>400.0</td>\n",
              "      <td>19.0</td>\n",
              "      <td>13.0</td>\n",
              "      <td>19.0</td>\n",
              "    </tr>\n",
              "    <tr>\n",
              "      <th>2</th>\n",
              "      <td>47770eb9100c2d0c44946d9cf07ec65d</td>\n",
              "      <td>41ce2a54c0b03bf3443c3d931a367089</td>\n",
              "      <td>delivered</td>\n",
              "      <td>2018-08-08</td>\n",
              "      <td>2018-08-08 08:55:23</td>\n",
              "      <td>2018-08-08 13:50:00</td>\n",
              "      <td>2018-08-17</td>\n",
              "      <td>2018-09-04</td>\n",
              "      <td>1.0</td>\n",
              "      <td>159.90</td>\n",
              "      <td>19.22</td>\n",
              "      <td>3a653a41f6f9fc3d2a113cf8398680e8</td>\n",
              "      <td>75265</td>\n",
              "      <td>vianopolis</td>\n",
              "      <td>GO</td>\n",
              "      <td>aa4383b373c6aca5d8797843e5594415</td>\n",
              "      <td>automotivo</td>\n",
              "      <td>46.0</td>\n",
              "      <td>232.0</td>\n",
              "      <td>1.0</td>\n",
              "      <td>420.0</td>\n",
              "      <td>24.0</td>\n",
              "      <td>19.0</td>\n",
              "      <td>21.0</td>\n",
              "    </tr>\n",
              "    <tr>\n",
              "      <th>3</th>\n",
              "      <td>949d5b44dbf5de918fe9c16f97b45f8a</td>\n",
              "      <td>f88197465ea7920adcdbec7375364d82</td>\n",
              "      <td>delivered</td>\n",
              "      <td>2017-11-18</td>\n",
              "      <td>2017-11-18 19:45:59</td>\n",
              "      <td>2017-11-22 13:39:59</td>\n",
              "      <td>2017-12-02</td>\n",
              "      <td>2017-12-15</td>\n",
              "      <td>1.0</td>\n",
              "      <td>45.00</td>\n",
              "      <td>27.20</td>\n",
              "      <td>7c142cf63193a1473d2e66489a9ae977</td>\n",
              "      <td>59296</td>\n",
              "      <td>sao goncalo do amarante</td>\n",
              "      <td>RN</td>\n",
              "      <td>d0b61bfb1de832b15ba9d266ca96e5b0</td>\n",
              "      <td>pet_shop</td>\n",
              "      <td>59.0</td>\n",
              "      <td>468.0</td>\n",
              "      <td>3.0</td>\n",
              "      <td>450.0</td>\n",
              "      <td>30.0</td>\n",
              "      <td>10.0</td>\n",
              "      <td>20.0</td>\n",
              "    </tr>\n",
              "    <tr>\n",
              "      <th>4</th>\n",
              "      <td>ad21c59c0840e6cb83a9ceb5573f8159</td>\n",
              "      <td>8ab97904e6daea8866dbdbc4fb7aad2c</td>\n",
              "      <td>delivered</td>\n",
              "      <td>2018-02-13</td>\n",
              "      <td>2018-02-13 22:20:29</td>\n",
              "      <td>2018-02-14 19:46:34</td>\n",
              "      <td>2018-02-16</td>\n",
              "      <td>2018-02-26</td>\n",
              "      <td>1.0</td>\n",
              "      <td>19.90</td>\n",
              "      <td>8.72</td>\n",
              "      <td>72632f0f9dd73dfee390c9b22eb56dd6</td>\n",
              "      <td>9195</td>\n",
              "      <td>santo andre</td>\n",
              "      <td>SP</td>\n",
              "      <td>65266b2da20d04dbe00c5c2d3bb7859e</td>\n",
              "      <td>papelaria</td>\n",
              "      <td>38.0</td>\n",
              "      <td>316.0</td>\n",
              "      <td>4.0</td>\n",
              "      <td>250.0</td>\n",
              "      <td>51.0</td>\n",
              "      <td>15.0</td>\n",
              "      <td>15.0</td>\n",
              "    </tr>\n",
              "  </tbody>\n",
              "</table>\n",
              "</div>"
            ],
            "text/plain": [
              "                           order_id  ... product_width_cm\n",
              "0  e481f51cbdc54678b7cc49136f2d6af7  ...             13.0\n",
              "1  53cdb2fc8bc7dce0b6741e2150273451  ...             19.0\n",
              "2  47770eb9100c2d0c44946d9cf07ec65d  ...             21.0\n",
              "3  949d5b44dbf5de918fe9c16f97b45f8a  ...             20.0\n",
              "4  ad21c59c0840e6cb83a9ceb5573f8159  ...             15.0\n",
              "\n",
              "[5 rows x 24 columns]"
            ]
          },
          "metadata": {
            "tags": []
          },
          "execution_count": 15
        }
      ]
    },
    {
      "cell_type": "markdown",
      "metadata": {
        "id": "UJmdaLgNIZhu"
      },
      "source": [
        "Vou contar a quantidade de order_id por customer_unique_id assim tereia a quantidade de compras que o consumidor já fez\r\n",
        "\r\n"
      ]
    },
    {
      "cell_type": "code",
      "metadata": {
        "id": "3brWWp1bGmAg"
      },
      "source": [
        "qtd_pedidos = orders[['order_id', 'customer_id','customer_unique_id']].groupby('customer_unique_id', as_index= False).count()"
      ],
      "execution_count": 16,
      "outputs": []
    },
    {
      "cell_type": "code",
      "metadata": {
        "colab": {
          "base_uri": "https://localhost:8080/",
          "height": 202
        },
        "id": "fBujW8fs82be",
        "outputId": "6e0c439a-ff46-4c6f-f3eb-fb435413cb1e"
      },
      "source": [
        "qtd_pedidos.head()"
      ],
      "execution_count": 17,
      "outputs": [
        {
          "output_type": "execute_result",
          "data": {
            "text/html": [
              "<div>\n",
              "<style scoped>\n",
              "    .dataframe tbody tr th:only-of-type {\n",
              "        vertical-align: middle;\n",
              "    }\n",
              "\n",
              "    .dataframe tbody tr th {\n",
              "        vertical-align: top;\n",
              "    }\n",
              "\n",
              "    .dataframe thead th {\n",
              "        text-align: right;\n",
              "    }\n",
              "</style>\n",
              "<table border=\"1\" class=\"dataframe\">\n",
              "  <thead>\n",
              "    <tr style=\"text-align: right;\">\n",
              "      <th></th>\n",
              "      <th>customer_unique_id</th>\n",
              "      <th>order_id</th>\n",
              "      <th>customer_id</th>\n",
              "    </tr>\n",
              "  </thead>\n",
              "  <tbody>\n",
              "    <tr>\n",
              "      <th>0</th>\n",
              "      <td>0000366f3b9a7992bf8c76cfdf3221e2</td>\n",
              "      <td>1</td>\n",
              "      <td>1</td>\n",
              "    </tr>\n",
              "    <tr>\n",
              "      <th>1</th>\n",
              "      <td>0000b849f77a49e4a4ce2b2a4ca5be3f</td>\n",
              "      <td>1</td>\n",
              "      <td>1</td>\n",
              "    </tr>\n",
              "    <tr>\n",
              "      <th>2</th>\n",
              "      <td>0000f46a3911fa3c0805444483337064</td>\n",
              "      <td>1</td>\n",
              "      <td>1</td>\n",
              "    </tr>\n",
              "    <tr>\n",
              "      <th>3</th>\n",
              "      <td>0000f6ccb0745a6a4b88665a16c9f078</td>\n",
              "      <td>1</td>\n",
              "      <td>1</td>\n",
              "    </tr>\n",
              "    <tr>\n",
              "      <th>4</th>\n",
              "      <td>0004aac84e0df4da2b147fca70cf8255</td>\n",
              "      <td>1</td>\n",
              "      <td>1</td>\n",
              "    </tr>\n",
              "  </tbody>\n",
              "</table>\n",
              "</div>"
            ],
            "text/plain": [
              "                 customer_unique_id  order_id  customer_id\n",
              "0  0000366f3b9a7992bf8c76cfdf3221e2         1            1\n",
              "1  0000b849f77a49e4a4ce2b2a4ca5be3f         1            1\n",
              "2  0000f46a3911fa3c0805444483337064         1            1\n",
              "3  0000f6ccb0745a6a4b88665a16c9f078         1            1\n",
              "4  0004aac84e0df4da2b147fca70cf8255         1            1"
            ]
          },
          "metadata": {
            "tags": []
          },
          "execution_count": 17
        }
      ]
    },
    {
      "cell_type": "code",
      "metadata": {
        "colab": {
          "base_uri": "https://localhost:8080/"
        },
        "id": "ueyJhhch9a9T",
        "outputId": "30d49b37-2034-4f0b-bc65-7cd0321c9357"
      },
      "source": [
        "qtd_pedidos['order_id'].value_counts()"
      ],
      "execution_count": 18,
      "outputs": [
        {
          "output_type": "execute_result",
          "data": {
            "text/plain": [
              "1     90226\n",
              "4      2569\n",
              "2      2467\n",
              "9       248\n",
              "5       221\n",
              "3       162\n",
              "16       62\n",
              "10       38\n",
              "6        36\n",
              "8        16\n",
              "36        8\n",
              "25        8\n",
              "13        6\n",
              "17        6\n",
              "11        6\n",
              "7         3\n",
              "49        3\n",
              "37        2\n",
              "12        1\n",
              "14        1\n",
              "15        1\n",
              "18        1\n",
              "19        1\n",
              "20        1\n",
              "23        1\n",
              "26        1\n",
              "64        1\n",
              "Name: order_id, dtype: int64"
            ]
          },
          "metadata": {
            "tags": []
          },
          "execution_count": 18
        }
      ]
    },
    {
      "cell_type": "markdown",
      "metadata": {
        "id": "gXhyEZo_Jbrv"
      },
      "source": [
        "Faço merge com a tabela Orders para trazer essa informação de quantidade de pedidos"
      ]
    },
    {
      "cell_type": "code",
      "metadata": {
        "id": "X4bORjXgYiWu"
      },
      "source": [
        "orders = orders.merge(qtd_pedidos, how='left', left_on='customer_unique_id', right_on='customer_unique_id', suffixes=['','_qtd'])"
      ],
      "execution_count": 19,
      "outputs": []
    },
    {
      "cell_type": "code",
      "metadata": {
        "colab": {
          "base_uri": "https://localhost:8080/"
        },
        "id": "3Q9nqcoBVIk_",
        "outputId": "6bf4fe48-4369-492f-8dcd-f6cd3ae0fd14"
      },
      "source": [
        "orders.shape"
      ],
      "execution_count": 20,
      "outputs": [
        {
          "output_type": "execute_result",
          "data": {
            "text/plain": [
              "(112162, 26)"
            ]
          },
          "metadata": {
            "tags": []
          },
          "execution_count": 20
        }
      ]
    },
    {
      "cell_type": "markdown",
      "metadata": {
        "id": "yuqilH-x-0ad"
      },
      "source": [
        "Fiz uma ordenação das notas pela mais recente até a mais antiga, removi duplicadas a partir do order_id e mantive a primeira que é a review_score mais recente"
      ]
    },
    {
      "cell_type": "code",
      "metadata": {
        "id": "fqby259TScv_"
      },
      "source": [
        "order_review = order_review.sort_values('review_creation_date', ascending= False).drop_duplicates(subset= 'order_id', keep='first')"
      ],
      "execution_count": 21,
      "outputs": []
    },
    {
      "cell_type": "code",
      "metadata": {
        "id": "nocK3vc2TqFJ"
      },
      "source": [
        "orders = orders.merge(order_review, how= 'left', left_on='order_id',right_on='order_id')  "
      ],
      "execution_count": 22,
      "outputs": []
    },
    {
      "cell_type": "code",
      "metadata": {
        "colab": {
          "base_uri": "https://localhost:8080/"
        },
        "id": "_zxNEkbtYZg6",
        "outputId": "79f13ee9-09db-438a-9cc8-da7d1dab0195"
      },
      "source": [
        "orders.shape"
      ],
      "execution_count": 23,
      "outputs": [
        {
          "output_type": "execute_result",
          "data": {
            "text/plain": [
              "(112162, 32)"
            ]
          },
          "metadata": {
            "tags": []
          },
          "execution_count": 23
        }
      ]
    },
    {
      "cell_type": "code",
      "metadata": {
        "id": "wHZQcGQz_D_T",
        "colab": {
          "base_uri": "https://localhost:8080/"
        },
        "outputId": "bd189bd3-759a-436a-9e5d-316d147807bd"
      },
      "source": [
        "orders.columns"
      ],
      "execution_count": 24,
      "outputs": [
        {
          "output_type": "execute_result",
          "data": {
            "text/plain": [
              "Index(['order_id', 'customer_id', 'order_status', 'order_purchase_timestamp',\n",
              "       'order_approved_at', 'order_delivered_carrier_date',\n",
              "       'order_delivered_customer_date', 'order_estimated_delivery_date',\n",
              "       'order_item_id', 'order_products_value', 'order_freight_value',\n",
              "       'customer_unique_id', 'customer_zip_code_prefix', 'customer_city',\n",
              "       'customer_state', 'product_id', 'product_category_name',\n",
              "       'product_name_lenght', 'product_description_lenght',\n",
              "       'product_photos_qty', 'product_weight_g', 'product_length_cm',\n",
              "       'product_height_cm', 'product_width_cm', 'order_id_qtd',\n",
              "       'customer_id_qtd', 'review_id', 'review_score', 'review_comment_title',\n",
              "       'review_comment_message', 'review_creation_date',\n",
              "       'review_answer_timestamp'],\n",
              "      dtype='object')"
            ]
          },
          "metadata": {
            "tags": []
          },
          "execution_count": 24
        }
      ]
    },
    {
      "cell_type": "markdown",
      "metadata": {
        "id": "lOnvKmDa7mKq"
      },
      "source": [
        "##4 -  exploração dos dados**\r\n"
      ]
    },
    {
      "cell_type": "code",
      "metadata": {
        "colab": {
          "base_uri": "https://localhost:8080/"
        },
        "id": "6cNbeChUWJlh",
        "outputId": "45c7a5cc-ff39-496a-e1ff-7c6c857b8407"
      },
      "source": [
        "orders['order_status'].value_counts()"
      ],
      "execution_count": 25,
      "outputs": [
        {
          "output_type": "execute_result",
          "data": {
            "text/plain": [
              "delivered      109070\n",
              "shipped          1170\n",
              "canceled          637\n",
              "unavailable       612\n",
              "invoiced          350\n",
              "processing        316\n",
              "created             5\n",
              "approved            2\n",
              "Name: order_status, dtype: int64"
            ]
          },
          "metadata": {
            "tags": []
          },
          "execution_count": 25
        }
      ]
    },
    {
      "cell_type": "code",
      "metadata": {
        "id": "uzMRwLafWMI3"
      },
      "source": [
        "orders = orders.loc[orders['order_status'] == 'delivered']"
      ],
      "execution_count": 26,
      "outputs": []
    },
    {
      "cell_type": "code",
      "metadata": {
        "colab": {
          "base_uri": "https://localhost:8080/"
        },
        "id": "lQXbBAIWWTbs",
        "outputId": "a85b2507-20f3-4d51-a0e0-c8463134c35c"
      },
      "source": [
        "orders.shape"
      ],
      "execution_count": 27,
      "outputs": [
        {
          "output_type": "execute_result",
          "data": {
            "text/plain": [
              "(109070, 32)"
            ]
          },
          "metadata": {
            "tags": []
          },
          "execution_count": 27
        }
      ]
    },
    {
      "cell_type": "markdown",
      "metadata": {
        "id": "oh9nr8NVaf6n"
      },
      "source": [
        "Calculando a diferença entre a data da entrega e a data esperada da entrega"
      ]
    },
    {
      "cell_type": "code",
      "metadata": {
        "id": "NW3QmsbG23Bz"
      },
      "source": [
        "orders['atrasoentrega'] = (orders.order_delivered_customer_date - orders.order_estimated_delivery_date)"
      ],
      "execution_count": 28,
      "outputs": []
    },
    {
      "cell_type": "code",
      "metadata": {
        "id": "RDY031sNaqEK"
      },
      "source": [
        "orders['atrasoentrega'] = pd.to_numeric(orders['atrasoentrega'].dt.days, downcast='integer')"
      ],
      "execution_count": 29,
      "outputs": []
    },
    {
      "cell_type": "code",
      "metadata": {
        "id": "YBDbbOQ5naXL"
      },
      "source": [
        "orders['prazo_entrega'] = (orders.order_estimated_delivery_date - orders.order_purchase_timestamp)\r\n",
        "orders['prazo_entrega'] = pd.to_numeric(orders['prazo_entrega'].dt.days, downcast='integer')"
      ],
      "execution_count": 30,
      "outputs": []
    },
    {
      "cell_type": "markdown",
      "metadata": {
        "id": "XaXfFxr5qVq4"
      },
      "source": [
        "Algumas variáveis categóricas como customer_state e product_category_name podem agregar no modelo por isso tranformei ela em números para usarmos"
      ]
    },
    {
      "cell_type": "code",
      "metadata": {
        "colab": {
          "base_uri": "https://localhost:8080/"
        },
        "id": "iLoKrJJqmrIk",
        "outputId": "79f8e2a4-0f1d-4194-e9f2-89f542ed447d"
      },
      "source": [
        "orders['product_category_name'].value_counts()"
      ],
      "execution_count": 38,
      "outputs": [
        {
          "output_type": "execute_result",
          "data": {
            "text/plain": [
              "cama_mesa_banho                                  12086\n",
              "beleza_saude                                      9321\n",
              "esporte_lazer                                     8047\n",
              "moveis_decoracao                                  7779\n",
              "informatica_acessorios                            7223\n",
              "                                                 ...  \n",
              "portateis_cozinha_e_preparadores_de_alimentos       13\n",
              "cds_dvds_musicais                                   12\n",
              "fashion_roupa_infanto_juvenil                        9\n",
              "pc_gamer                                             8\n",
              "seguros_e_servicos                                   2\n",
              "Name: product_category_name, Length: 73, dtype: int64"
            ]
          },
          "metadata": {
            "tags": []
          },
          "execution_count": 38
        }
      ]
    },
    {
      "cell_type": "code",
      "metadata": {
        "colab": {
          "base_uri": "https://localhost:8080/"
        },
        "id": "Ia60LkIpn14S",
        "outputId": "ee1f7029-8c8c-46ca-bb4b-dde71254245d"
      },
      "source": [
        "orders['customer_state'].value_counts()"
      ],
      "execution_count": 39,
      "outputs": [
        {
          "output_type": "execute_result",
          "data": {
            "text/plain": [
              "SP    46145\n",
              "RJ    13928\n",
              "MG    12842\n",
              "RS     6050\n",
              "PR     5484\n",
              "SC     3969\n",
              "BA     3644\n",
              "DF     2372\n",
              "GO     2233\n",
              "ES     2225\n",
              "PE     1724\n",
              "CE     1407\n",
              "MT     1063\n",
              "PA     1062\n",
              "MA      815\n",
              "MS      776\n",
              "PB      564\n",
              "RN      529\n",
              "PI      508\n",
              "AL      424\n",
              "SE      356\n",
              "TO      311\n",
              "RO      282\n",
              "AM      157\n",
              "AC       83\n",
              "AP       76\n",
              "RR       41\n",
              "Name: customer_state, dtype: int64"
            ]
          },
          "metadata": {
            "tags": []
          },
          "execution_count": 39
        }
      ]
    },
    {
      "cell_type": "code",
      "metadata": {
        "id": "26Kz5Uaen0pz"
      },
      "source": [
        "orders['customer_state'] = orders['customer_state'].astype('category')\r\n",
        "orders['product_category_name'] = orders['product_category_name'].astype('category')"
      ],
      "execution_count": 40,
      "outputs": []
    },
    {
      "cell_type": "code",
      "metadata": {
        "id": "v9YxQ0QRn_2I"
      },
      "source": [
        "categoricas = orders.select_dtypes(['category']).columns"
      ],
      "execution_count": 41,
      "outputs": []
    },
    {
      "cell_type": "code",
      "metadata": {
        "id": "zhd3_FBzoOXP"
      },
      "source": [
        "orders[categoricas] = orders[categoricas].apply(lambda x: x.cat.codes)"
      ],
      "execution_count": 42,
      "outputs": []
    },
    {
      "cell_type": "code",
      "metadata": {
        "colab": {
          "base_uri": "https://localhost:8080/",
          "height": 257
        },
        "id": "1eLQqxhYoSyH",
        "outputId": "32efe8d8-dcff-4c9b-e6a6-37cc63e00b0a"
      },
      "source": [
        "orders.head()"
      ],
      "execution_count": 43,
      "outputs": [
        {
          "output_type": "execute_result",
          "data": {
            "text/html": [
              "<div>\n",
              "<style scoped>\n",
              "    .dataframe tbody tr th:only-of-type {\n",
              "        vertical-align: middle;\n",
              "    }\n",
              "\n",
              "    .dataframe tbody tr th {\n",
              "        vertical-align: top;\n",
              "    }\n",
              "\n",
              "    .dataframe thead th {\n",
              "        text-align: right;\n",
              "    }\n",
              "</style>\n",
              "<table border=\"1\" class=\"dataframe\">\n",
              "  <thead>\n",
              "    <tr style=\"text-align: right;\">\n",
              "      <th></th>\n",
              "      <th>order_id</th>\n",
              "      <th>customer_id</th>\n",
              "      <th>order_status</th>\n",
              "      <th>order_purchase_timestamp</th>\n",
              "      <th>order_approved_at</th>\n",
              "      <th>order_delivered_carrier_date</th>\n",
              "      <th>order_delivered_customer_date</th>\n",
              "      <th>order_estimated_delivery_date</th>\n",
              "      <th>order_item_id</th>\n",
              "      <th>order_products_value</th>\n",
              "      <th>order_freight_value</th>\n",
              "      <th>customer_unique_id</th>\n",
              "      <th>customer_zip_code_prefix</th>\n",
              "      <th>customer_city</th>\n",
              "      <th>customer_state</th>\n",
              "      <th>product_id</th>\n",
              "      <th>product_category_name</th>\n",
              "      <th>product_name_lenght</th>\n",
              "      <th>product_description_lenght</th>\n",
              "      <th>product_photos_qty</th>\n",
              "      <th>product_weight_g</th>\n",
              "      <th>product_length_cm</th>\n",
              "      <th>product_height_cm</th>\n",
              "      <th>product_width_cm</th>\n",
              "      <th>order_id_qtd</th>\n",
              "      <th>customer_id_qtd</th>\n",
              "      <th>review_id</th>\n",
              "      <th>review_score</th>\n",
              "      <th>review_comment_title</th>\n",
              "      <th>review_comment_message</th>\n",
              "      <th>review_creation_date</th>\n",
              "      <th>review_answer_timestamp</th>\n",
              "      <th>atrasoentrega</th>\n",
              "      <th>prazo_entrega</th>\n",
              "    </tr>\n",
              "  </thead>\n",
              "  <tbody>\n",
              "    <tr>\n",
              "      <th>0</th>\n",
              "      <td>e481f51cbdc54678b7cc49136f2d6af7</td>\n",
              "      <td>9ef432eb6251297304e76186b10a928d</td>\n",
              "      <td>delivered</td>\n",
              "      <td>2017-10-02</td>\n",
              "      <td>2017-10-02 11:07:15</td>\n",
              "      <td>2017-10-04 19:55:00</td>\n",
              "      <td>2017-10-10</td>\n",
              "      <td>2017-10-18</td>\n",
              "      <td>1.0</td>\n",
              "      <td>29.99</td>\n",
              "      <td>8.72</td>\n",
              "      <td>7c396fd4830fd04220f754e42b4e5bff</td>\n",
              "      <td>3149</td>\n",
              "      <td>sao paulo</td>\n",
              "      <td>25</td>\n",
              "      <td>87285b34884572647811a353c7ac498a</td>\n",
              "      <td>72</td>\n",
              "      <td>40.0</td>\n",
              "      <td>268.0</td>\n",
              "      <td>4.0</td>\n",
              "      <td>500.0</td>\n",
              "      <td>19.0</td>\n",
              "      <td>8.0</td>\n",
              "      <td>13.0</td>\n",
              "      <td>2</td>\n",
              "      <td>2</td>\n",
              "      <td>a54f0611adc9ed256b57ede6b6eb5114</td>\n",
              "      <td>4</td>\n",
              "      <td>NaN</td>\n",
              "      <td>Não testei o produto ainda, mas ele veio corre...</td>\n",
              "      <td>2017-10-11 00:00:00</td>\n",
              "      <td>2017-10-12 03:43:48</td>\n",
              "      <td>-8.0</td>\n",
              "      <td>16</td>\n",
              "    </tr>\n",
              "    <tr>\n",
              "      <th>1</th>\n",
              "      <td>53cdb2fc8bc7dce0b6741e2150273451</td>\n",
              "      <td>b0830fb4747a6c6d20dea0b8c802d7ef</td>\n",
              "      <td>delivered</td>\n",
              "      <td>2018-07-24</td>\n",
              "      <td>2018-07-26 03:24:27</td>\n",
              "      <td>2018-07-26 14:31:00</td>\n",
              "      <td>2018-08-07</td>\n",
              "      <td>2018-08-13</td>\n",
              "      <td>1.0</td>\n",
              "      <td>118.70</td>\n",
              "      <td>22.76</td>\n",
              "      <td>af07308b275d755c9edb36a90c618231</td>\n",
              "      <td>47813</td>\n",
              "      <td>barreiras</td>\n",
              "      <td>4</td>\n",
              "      <td>595fac2a385ac33a80bd5114aec74eb8</td>\n",
              "      <td>62</td>\n",
              "      <td>29.0</td>\n",
              "      <td>178.0</td>\n",
              "      <td>1.0</td>\n",
              "      <td>400.0</td>\n",
              "      <td>19.0</td>\n",
              "      <td>13.0</td>\n",
              "      <td>19.0</td>\n",
              "      <td>1</td>\n",
              "      <td>1</td>\n",
              "      <td>8d5266042046a06655c8db133d120ba5</td>\n",
              "      <td>4</td>\n",
              "      <td>Muito boa a loja</td>\n",
              "      <td>Muito bom o produto.</td>\n",
              "      <td>2018-08-08 00:00:00</td>\n",
              "      <td>2018-08-08 18:37:50</td>\n",
              "      <td>-6.0</td>\n",
              "      <td>20</td>\n",
              "    </tr>\n",
              "    <tr>\n",
              "      <th>2</th>\n",
              "      <td>47770eb9100c2d0c44946d9cf07ec65d</td>\n",
              "      <td>41ce2a54c0b03bf3443c3d931a367089</td>\n",
              "      <td>delivered</td>\n",
              "      <td>2018-08-08</td>\n",
              "      <td>2018-08-08 08:55:23</td>\n",
              "      <td>2018-08-08 13:50:00</td>\n",
              "      <td>2018-08-17</td>\n",
              "      <td>2018-09-04</td>\n",
              "      <td>1.0</td>\n",
              "      <td>159.90</td>\n",
              "      <td>19.22</td>\n",
              "      <td>3a653a41f6f9fc3d2a113cf8398680e8</td>\n",
              "      <td>75265</td>\n",
              "      <td>vianopolis</td>\n",
              "      <td>8</td>\n",
              "      <td>aa4383b373c6aca5d8797843e5594415</td>\n",
              "      <td>8</td>\n",
              "      <td>46.0</td>\n",
              "      <td>232.0</td>\n",
              "      <td>1.0</td>\n",
              "      <td>420.0</td>\n",
              "      <td>24.0</td>\n",
              "      <td>19.0</td>\n",
              "      <td>21.0</td>\n",
              "      <td>1</td>\n",
              "      <td>1</td>\n",
              "      <td>e73b67b67587f7644d5bd1a52deb1b01</td>\n",
              "      <td>5</td>\n",
              "      <td>NaN</td>\n",
              "      <td>NaN</td>\n",
              "      <td>2018-08-18 00:00:00</td>\n",
              "      <td>2018-08-22 19:07:58</td>\n",
              "      <td>-18.0</td>\n",
              "      <td>27</td>\n",
              "    </tr>\n",
              "    <tr>\n",
              "      <th>3</th>\n",
              "      <td>949d5b44dbf5de918fe9c16f97b45f8a</td>\n",
              "      <td>f88197465ea7920adcdbec7375364d82</td>\n",
              "      <td>delivered</td>\n",
              "      <td>2017-11-18</td>\n",
              "      <td>2017-11-18 19:45:59</td>\n",
              "      <td>2017-11-22 13:39:59</td>\n",
              "      <td>2017-12-02</td>\n",
              "      <td>2017-12-15</td>\n",
              "      <td>1.0</td>\n",
              "      <td>45.00</td>\n",
              "      <td>27.20</td>\n",
              "      <td>7c142cf63193a1473d2e66489a9ae977</td>\n",
              "      <td>59296</td>\n",
              "      <td>sao goncalo do amarante</td>\n",
              "      <td>19</td>\n",
              "      <td>d0b61bfb1de832b15ba9d266ca96e5b0</td>\n",
              "      <td>63</td>\n",
              "      <td>59.0</td>\n",
              "      <td>468.0</td>\n",
              "      <td>3.0</td>\n",
              "      <td>450.0</td>\n",
              "      <td>30.0</td>\n",
              "      <td>10.0</td>\n",
              "      <td>20.0</td>\n",
              "      <td>1</td>\n",
              "      <td>1</td>\n",
              "      <td>359d03e676b3c069f62cadba8dd3f6e8</td>\n",
              "      <td>5</td>\n",
              "      <td>NaN</td>\n",
              "      <td>O produto foi exatamente o que eu esperava e e...</td>\n",
              "      <td>2017-12-03 00:00:00</td>\n",
              "      <td>2017-12-05 19:21:58</td>\n",
              "      <td>-13.0</td>\n",
              "      <td>27</td>\n",
              "    </tr>\n",
              "    <tr>\n",
              "      <th>4</th>\n",
              "      <td>ad21c59c0840e6cb83a9ceb5573f8159</td>\n",
              "      <td>8ab97904e6daea8866dbdbc4fb7aad2c</td>\n",
              "      <td>delivered</td>\n",
              "      <td>2018-02-13</td>\n",
              "      <td>2018-02-13 22:20:29</td>\n",
              "      <td>2018-02-14 19:46:34</td>\n",
              "      <td>2018-02-16</td>\n",
              "      <td>2018-02-26</td>\n",
              "      <td>1.0</td>\n",
              "      <td>19.90</td>\n",
              "      <td>8.72</td>\n",
              "      <td>72632f0f9dd73dfee390c9b22eb56dd6</td>\n",
              "      <td>9195</td>\n",
              "      <td>santo andre</td>\n",
              "      <td>25</td>\n",
              "      <td>65266b2da20d04dbe00c5c2d3bb7859e</td>\n",
              "      <td>59</td>\n",
              "      <td>38.0</td>\n",
              "      <td>316.0</td>\n",
              "      <td>4.0</td>\n",
              "      <td>250.0</td>\n",
              "      <td>51.0</td>\n",
              "      <td>15.0</td>\n",
              "      <td>15.0</td>\n",
              "      <td>1</td>\n",
              "      <td>1</td>\n",
              "      <td>e50934924e227544ba8246aeb3770dd4</td>\n",
              "      <td>5</td>\n",
              "      <td>NaN</td>\n",
              "      <td>NaN</td>\n",
              "      <td>2018-02-17 00:00:00</td>\n",
              "      <td>2018-02-18 13:02:51</td>\n",
              "      <td>-10.0</td>\n",
              "      <td>13</td>\n",
              "    </tr>\n",
              "  </tbody>\n",
              "</table>\n",
              "</div>"
            ],
            "text/plain": [
              "                           order_id  ... prazo_entrega\n",
              "0  e481f51cbdc54678b7cc49136f2d6af7  ...            16\n",
              "1  53cdb2fc8bc7dce0b6741e2150273451  ...            20\n",
              "2  47770eb9100c2d0c44946d9cf07ec65d  ...            27\n",
              "3  949d5b44dbf5de918fe9c16f97b45f8a  ...            27\n",
              "4  ad21c59c0840e6cb83a9ceb5573f8159  ...            13\n",
              "\n",
              "[5 rows x 34 columns]"
            ]
          },
          "metadata": {
            "tags": []
          },
          "execution_count": 43
        }
      ]
    },
    {
      "cell_type": "markdown",
      "metadata": {
        "id": "sykUuruDwGc6"
      },
      "source": [
        "Ordenar a product_value do maior para o menor e dar um drop_duplicate pelo order_id para manter o maior (keep first) ou manter o pedido de menor valor (keep last). Analisar os dois mas remover os ORDER_ID DUPLICADAS"
      ]
    },
    {
      "cell_type": "code",
      "metadata": {
        "colab": {
          "base_uri": "https://localhost:8080/"
        },
        "id": "OKi5tK6EPEi0",
        "outputId": "722e3655-fef5-45f3-f711-861cffe1b576"
      },
      "source": [
        "orders['order_id'].value_counts()"
      ],
      "execution_count": 44,
      "outputs": [
        {
          "output_type": "execute_result",
          "data": {
            "text/plain": [
              "ca3625898fbd48669d50701aba51cd5f    64\n",
              "ad850e69fce9a512ada84086651a2e7d    49\n",
              "77df84f9195be22a4e9cb72ca9e8b4c2    49\n",
              "7d8f5bfd5aff648220374a2df62e84d5    49\n",
              "aa0b425987bdeae4a29c616a2bc3a08a    36\n",
              "                                    ..\n",
              "1b2db2aab76c9c5abd0f6538ca507016     1\n",
              "08e4ca5f437f69407fb01cabd2d7a0b8     1\n",
              "244eca4c9c8dd0dd793f6ea85d5ddc7b     1\n",
              "e4d30fd714b8811d4c77924ca7e95c42     1\n",
              "b7d7bac557fdaf041e274d8043d9c588     1\n",
              "Name: order_id, Length: 96478, dtype: int64"
            ]
          },
          "metadata": {
            "tags": []
          },
          "execution_count": 44
        }
      ]
    },
    {
      "cell_type": "code",
      "metadata": {
        "id": "O0gtM1_fwFT5"
      },
      "source": [
        "orders = orders.sort_values('order_products_value') #do menor para o maior"
      ],
      "execution_count": 45,
      "outputs": []
    },
    {
      "cell_type": "code",
      "metadata": {
        "id": "uLmhhAw5wRRr"
      },
      "source": [
        "orders_1 = orders.drop_duplicates(subset= 'order_id', keep= 'last') #deixando o pedido de maior valor"
      ],
      "execution_count": 46,
      "outputs": []
    },
    {
      "cell_type": "code",
      "metadata": {
        "id": "PPrxA9_FwoRg"
      },
      "source": [
        "orders_2 = orders.drop_duplicates(subset= 'order_id', keep= 'first') #deixando o pedido de menor valor"
      ],
      "execution_count": 47,
      "outputs": []
    },
    {
      "cell_type": "code",
      "metadata": {
        "id": "qgfxXZ6q5lXF"
      },
      "source": [
        "dados = orders_1[['order_products_value','order_freight_value','order_id_qtd','product_category_name',\n",
        "                  'customer_state','product_description_lenght', \n",
        "                 'product_photos_qty', 'review_score','atrasoentrega','prazo_entrega']]"
      ],
      "execution_count": 48,
      "outputs": []
    },
    {
      "cell_type": "code",
      "metadata": {
        "colab": {
          "base_uri": "https://localhost:8080/"
        },
        "id": "W1r-1L7Mx42C",
        "outputId": "1ce33e5a-5b8c-4ddf-9316-3361e64565cf"
      },
      "source": [
        "dados.shape"
      ],
      "execution_count": 49,
      "outputs": [
        {
          "output_type": "execute_result",
          "data": {
            "text/plain": [
              "(96478, 10)"
            ]
          },
          "metadata": {
            "tags": []
          },
          "execution_count": 49
        }
      ]
    },
    {
      "cell_type": "code",
      "metadata": {
        "colab": {
          "base_uri": "https://localhost:8080/",
          "height": 425
        },
        "id": "Y7XMu91wikoN",
        "outputId": "b0aff953-2b35-4cf5-df86-cc09cb8ee6bc"
      },
      "source": [
        "dados.hist(column='review_score',    # Coluna a ser plotada\r\n",
        "                   figsize=(9,6),   # Tamanho do gráfico\r\n",
        "                   bins=20)  "
      ],
      "execution_count": 50,
      "outputs": [
        {
          "output_type": "execute_result",
          "data": {
            "text/plain": [
              "array([[<matplotlib.axes._subplots.AxesSubplot object at 0x7f8242f7bf60>]],\n",
              "      dtype=object)"
            ]
          },
          "metadata": {
            "tags": []
          },
          "execution_count": 50
        },
        {
          "output_type": "display_data",
          "data": {
            "image/png": "[encoded data removed]",
            "text/plain": [
              "<Figure size 648x432 with 1 Axes>"
            ]
          },
          "metadata": {
            "tags": [],
            "needs_background": "light"
          }
        }
      ]
    },
    {
      "cell_type": "code",
      "metadata": {
        "colab": {
          "base_uri": "https://localhost:8080/",
          "height": 298
        },
        "id": "KPCMdtV-jBQa",
        "outputId": "e63bee2c-61ad-4348-9b0e-23a6694d62d4"
      },
      "source": [
        "dados.plot(x = 'review_score', y= 'atrasoentrega', style='o')"
      ],
      "execution_count": 51,
      "outputs": [
        {
          "output_type": "execute_result",
          "data": {
            "text/plain": [
              "<matplotlib.axes._subplots.AxesSubplot at 0x7f8242e68e48>"
            ]
          },
          "metadata": {
            "tags": []
          },
          "execution_count": 51
        },
        {
          "output_type": "display_data",
          "data": {
            "image/png": "[encoded data removed]",
            "text/plain": [
              "<Figure size 432x288 with 1 Axes>"
            ]
          },
          "metadata": {
            "tags": [],
            "needs_background": "light"
          }
        }
      ]
    },
    {
      "cell_type": "code",
      "metadata": {
        "colab": {
          "base_uri": "https://localhost:8080/",
          "height": 356
        },
        "id": "nfTHcMrdGvNt",
        "outputId": "3190206a-e9c9-48dc-cfdc-db9dd4252bcd"
      },
      "source": [
        "dados.corr()"
      ],
      "execution_count": 52,
      "outputs": [
        {
          "output_type": "execute_result",
          "data": {
            "text/html": [
              "<div>\n",
              "<style scoped>\n",
              "    .dataframe tbody tr th:only-of-type {\n",
              "        vertical-align: middle;\n",
              "    }\n",
              "\n",
              "    .dataframe tbody tr th {\n",
              "        vertical-align: top;\n",
              "    }\n",
              "\n",
              "    .dataframe thead th {\n",
              "        text-align: right;\n",
              "    }\n",
              "</style>\n",
              "<table border=\"1\" class=\"dataframe\">\n",
              "  <thead>\n",
              "    <tr style=\"text-align: right;\">\n",
              "      <th></th>\n",
              "      <th>order_products_value</th>\n",
              "      <th>order_freight_value</th>\n",
              "      <th>order_id_qtd</th>\n",
              "      <th>product_category_name</th>\n",
              "      <th>customer_state</th>\n",
              "      <th>product_description_lenght</th>\n",
              "      <th>product_photos_qty</th>\n",
              "      <th>review_score</th>\n",
              "      <th>atrasoentrega</th>\n",
              "      <th>prazo_entrega</th>\n",
              "    </tr>\n",
              "  </thead>\n",
              "  <tbody>\n",
              "    <tr>\n",
              "      <th>order_products_value</th>\n",
              "      <td>1.000000</td>\n",
              "      <td>0.409852</td>\n",
              "      <td>-0.016169</td>\n",
              "      <td>0.010248</td>\n",
              "      <td>-0.043516</td>\n",
              "      <td>0.194047</td>\n",
              "      <td>0.038796</td>\n",
              "      <td>-0.027491</td>\n",
              "      <td>-0.009877</td>\n",
              "      <td>0.074917</td>\n",
              "    </tr>\n",
              "    <tr>\n",
              "      <th>order_freight_value</th>\n",
              "      <td>0.409852</td>\n",
              "      <td>1.000000</td>\n",
              "      <td>0.002179</td>\n",
              "      <td>0.028829</td>\n",
              "      <td>-0.191290</td>\n",
              "      <td>0.080877</td>\n",
              "      <td>-0.000436</td>\n",
              "      <td>-0.071683</td>\n",
              "      <td>-0.041506</td>\n",
              "      <td>0.244375</td>\n",
              "    </tr>\n",
              "    <tr>\n",
              "      <th>order_id_qtd</th>\n",
              "      <td>-0.016169</td>\n",
              "      <td>0.002179</td>\n",
              "      <td>1.000000</td>\n",
              "      <td>-0.013848</td>\n",
              "      <td>0.010988</td>\n",
              "      <td>-0.044648</td>\n",
              "      <td>-0.025870</td>\n",
              "      <td>-0.069768</td>\n",
              "      <td>-0.044081</td>\n",
              "      <td>0.023037</td>\n",
              "    </tr>\n",
              "    <tr>\n",
              "      <th>product_category_name</th>\n",
              "      <td>0.010248</td>\n",
              "      <td>0.028829</td>\n",
              "      <td>-0.013848</td>\n",
              "      <td>1.000000</td>\n",
              "      <td>-0.009513</td>\n",
              "      <td>-0.055831</td>\n",
              "      <td>0.081354</td>\n",
              "      <td>0.002768</td>\n",
              "      <td>-0.016682</td>\n",
              "      <td>0.027535</td>\n",
              "    </tr>\n",
              "    <tr>\n",
              "      <th>customer_state</th>\n",
              "      <td>-0.043516</td>\n",
              "      <td>-0.191290</td>\n",
              "      <td>0.010988</td>\n",
              "      <td>-0.009513</td>\n",
              "      <td>1.000000</td>\n",
              "      <td>-0.024596</td>\n",
              "      <td>-0.010346</td>\n",
              "      <td>0.051458</td>\n",
              "      <td>0.037771</td>\n",
              "      <td>-0.348924</td>\n",
              "    </tr>\n",
              "    <tr>\n",
              "      <th>product_description_lenght</th>\n",
              "      <td>0.194047</td>\n",
              "      <td>0.080877</td>\n",
              "      <td>-0.044648</td>\n",
              "      <td>-0.055831</td>\n",
              "      <td>-0.024596</td>\n",
              "      <td>1.000000</td>\n",
              "      <td>0.120427</td>\n",
              "      <td>0.013154</td>\n",
              "      <td>0.002284</td>\n",
              "      <td>0.000915</td>\n",
              "    </tr>\n",
              "    <tr>\n",
              "      <th>product_photos_qty</th>\n",
              "      <td>0.038796</td>\n",
              "      <td>-0.000436</td>\n",
              "      <td>-0.025870</td>\n",
              "      <td>0.081354</td>\n",
              "      <td>-0.010346</td>\n",
              "      <td>0.120427</td>\n",
              "      <td>1.000000</td>\n",
              "      <td>0.013682</td>\n",
              "      <td>0.003674</td>\n",
              "      <td>-0.034100</td>\n",
              "    </tr>\n",
              "    <tr>\n",
              "      <th>review_score</th>\n",
              "      <td>-0.027491</td>\n",
              "      <td>-0.071683</td>\n",
              "      <td>-0.069768</td>\n",
              "      <td>0.002768</td>\n",
              "      <td>0.051458</td>\n",
              "      <td>0.013154</td>\n",
              "      <td>0.013682</td>\n",
              "      <td>1.000000</td>\n",
              "      <td>-0.269421</td>\n",
              "      <td>-0.052185</td>\n",
              "    </tr>\n",
              "    <tr>\n",
              "      <th>atrasoentrega</th>\n",
              "      <td>-0.009877</td>\n",
              "      <td>-0.041506</td>\n",
              "      <td>-0.044081</td>\n",
              "      <td>-0.016682</td>\n",
              "      <td>0.037771</td>\n",
              "      <td>0.002284</td>\n",
              "      <td>0.003674</td>\n",
              "      <td>-0.269421</td>\n",
              "      <td>1.000000</td>\n",
              "      <td>-0.499477</td>\n",
              "    </tr>\n",
              "    <tr>\n",
              "      <th>prazo_entrega</th>\n",
              "      <td>0.074917</td>\n",
              "      <td>0.244375</td>\n",
              "      <td>0.023037</td>\n",
              "      <td>0.027535</td>\n",
              "      <td>-0.348924</td>\n",
              "      <td>0.000915</td>\n",
              "      <td>-0.034100</td>\n",
              "      <td>-0.052185</td>\n",
              "      <td>-0.499477</td>\n",
              "      <td>1.000000</td>\n",
              "    </tr>\n",
              "  </tbody>\n",
              "</table>\n",
              "</div>"
            ],
            "text/plain": [
              "                            order_products_value  ...  prazo_entrega\n",
              "order_products_value                    1.000000  ...       0.074917\n",
              "order_freight_value                     0.409852  ...       0.244375\n",
              "order_id_qtd                           -0.016169  ...       0.023037\n",
              "product_category_name                   0.010248  ...       0.027535\n",
              "customer_state                         -0.043516  ...      -0.348924\n",
              "product_description_lenght              0.194047  ...       0.000915\n",
              "product_photos_qty                      0.038796  ...      -0.034100\n",
              "review_score                           -0.027491  ...      -0.052185\n",
              "atrasoentrega                          -0.009877  ...      -0.499477\n",
              "prazo_entrega                           0.074917  ...       1.000000\n",
              "\n",
              "[10 rows x 10 columns]"
            ]
          },
          "metadata": {
            "tags": []
          },
          "execution_count": 52
        }
      ]
    },
    {
      "cell_type": "code",
      "metadata": {
        "id": "xw6BZNCzCohK"
      },
      "source": [
        "dados = dados.loc[(dados['atrasoentrega'] < (dados['atrasoentrega'].mean()+(2*dados['atrasoentrega'].std()))) & \r\n",
        "                  (dados['atrasoentrega'] > (dados['atrasoentrega'].mean()-(2*dados['atrasoentrega'].std())))]"
      ],
      "execution_count": 53,
      "outputs": []
    },
    {
      "cell_type": "code",
      "metadata": {
        "colab": {
          "base_uri": "https://localhost:8080/"
        },
        "id": "E3S6VLgfyP3B",
        "outputId": "8a4989bb-4522-46b9-f752-4a43e803b15a"
      },
      "source": [
        "dados.shape"
      ],
      "execution_count": 54,
      "outputs": [
        {
          "output_type": "execute_result",
          "data": {
            "text/plain": [
              "(92173, 10)"
            ]
          },
          "metadata": {
            "tags": []
          },
          "execution_count": 54
        }
      ]
    },
    {
      "cell_type": "code",
      "metadata": {
        "colab": {
          "base_uri": "https://localhost:8080/"
        },
        "id": "L7gHGUGARs7V",
        "outputId": "7c156499-b675-406c-affb-eea710bd3139"
      },
      "source": [
        "dados['review_score'].value_counts()"
      ],
      "execution_count": 55,
      "outputs": [
        {
          "output_type": "execute_result",
          "data": {
            "text/plain": [
              "5    55531\n",
              "4    18501\n",
              "1     7783\n",
              "3     7656\n",
              "2     2702\n",
              "Name: review_score, dtype: int64"
            ]
          },
          "metadata": {
            "tags": []
          },
          "execution_count": 55
        }
      ]
    },
    {
      "cell_type": "code",
      "metadata": {
        "id": "YCKZDMXL6nyW",
        "colab": {
          "base_uri": "https://localhost:8080/"
        },
        "outputId": "b15a7466-b98e-4dad-c063-35274a307851"
      },
      "source": [
        "a_trocar = {\n",
        "    0 : 0,\n",
        "    1 : 0,\n",
        "    2 : 0,\n",
        "    3 : 0,\n",
        "    4 : 1,\n",
        "    5 : 1\n",
        "}\n",
        "dados.review_score = dados.review_score.map(a_trocar)"
      ],
      "execution_count": 56,
      "outputs": [
        {
          "output_type": "stream",
          "text": [
            "/usr/local/lib/python3.6/dist-packages/pandas/core/generic.py:5170: SettingWithCopyWarning: \n",
            "A value is trying to be set on a copy of a slice from a DataFrame.\n",
            "Try using .loc[row_indexer,col_indexer] = value instead\n",
            "\n",
            "See the caveats in the documentation: https://pandas.pydata.org/pandas-docs/stable/user_guide/indexing.html#returning-a-view-versus-a-copy\n",
            "  self[name] = value\n"
          ],
          "name": "stderr"
        }
      ]
    },
    {
      "cell_type": "code",
      "metadata": {
        "colab": {
          "base_uri": "https://localhost:8080/"
        },
        "id": "sz-PytMDLYUR",
        "outputId": "b37873c0-676b-4cc4-b07f-c5789ba88430"
      },
      "source": [
        "dados['review_score'].value_counts()"
      ],
      "execution_count": 57,
      "outputs": [
        {
          "output_type": "execute_result",
          "data": {
            "text/plain": [
              "1    74032\n",
              "0    18141\n",
              "Name: review_score, dtype: int64"
            ]
          },
          "metadata": {
            "tags": []
          },
          "execution_count": 57
        }
      ]
    },
    {
      "cell_type": "code",
      "metadata": {
        "colab": {
          "base_uri": "https://localhost:8080/"
        },
        "id": "xUjGn5GlKiJf",
        "outputId": "71fb9811-f474-45f1-f355-708ecd53257d"
      },
      "source": [
        "dados.info()"
      ],
      "execution_count": 58,
      "outputs": [
        {
          "output_type": "stream",
          "text": [
            "<class 'pandas.core.frame.DataFrame'>\n",
            "Int64Index: 92173 entries, 80202 to 15075\n",
            "Data columns (total 10 columns):\n",
            " #   Column                      Non-Null Count  Dtype  \n",
            "---  ------                      --------------  -----  \n",
            " 0   order_products_value        92173 non-null  float64\n",
            " 1   order_freight_value         92173 non-null  float64\n",
            " 2   order_id_qtd                92173 non-null  int64  \n",
            " 3   product_category_name       92173 non-null  int8   \n",
            " 4   customer_state              92173 non-null  int8   \n",
            " 5   product_description_lenght  90871 non-null  float64\n",
            " 6   product_photos_qty          90871 non-null  float64\n",
            " 7   review_score                92173 non-null  int64  \n",
            " 8   atrasoentrega               92173 non-null  float64\n",
            " 9   prazo_entrega               92173 non-null  int16  \n",
            "dtypes: float64(5), int16(1), int64(2), int8(2)\n",
            "memory usage: 6.0 MB\n"
          ],
          "name": "stdout"
        }
      ]
    },
    {
      "cell_type": "code",
      "metadata": {
        "id": "KcGWSr4BFotJ"
      },
      "source": [
        "dados = dados.fillna(0)"
      ],
      "execution_count": 59,
      "outputs": []
    },
    {
      "cell_type": "code",
      "metadata": {
        "colab": {
          "base_uri": "https://localhost:8080/",
          "height": 202
        },
        "id": "2YfIJgGnLoAT",
        "outputId": "cb247bc5-f1cb-4b34-995e-2bd412295fa4"
      },
      "source": [
        "dados.head()"
      ],
      "execution_count": 60,
      "outputs": [
        {
          "output_type": "execute_result",
          "data": {
            "text/html": [
              "<div>\n",
              "<style scoped>\n",
              "    .dataframe tbody tr th:only-of-type {\n",
              "        vertical-align: middle;\n",
              "    }\n",
              "\n",
              "    .dataframe tbody tr th {\n",
              "        vertical-align: top;\n",
              "    }\n",
              "\n",
              "    .dataframe thead th {\n",
              "        text-align: right;\n",
              "    }\n",
              "</style>\n",
              "<table border=\"1\" class=\"dataframe\">\n",
              "  <thead>\n",
              "    <tr style=\"text-align: right;\">\n",
              "      <th></th>\n",
              "      <th>order_products_value</th>\n",
              "      <th>order_freight_value</th>\n",
              "      <th>order_id_qtd</th>\n",
              "      <th>product_category_name</th>\n",
              "      <th>customer_state</th>\n",
              "      <th>product_description_lenght</th>\n",
              "      <th>product_photos_qty</th>\n",
              "      <th>review_score</th>\n",
              "      <th>atrasoentrega</th>\n",
              "      <th>prazo_entrega</th>\n",
              "    </tr>\n",
              "  </thead>\n",
              "  <tbody>\n",
              "    <tr>\n",
              "      <th>80202</th>\n",
              "      <td>0.85</td>\n",
              "      <td>18.23</td>\n",
              "      <td>1</td>\n",
              "      <td>21</td>\n",
              "      <td>25</td>\n",
              "      <td>1041.0</td>\n",
              "      <td>5.0</td>\n",
              "      <td>1</td>\n",
              "      <td>-10.0</td>\n",
              "      <td>23</td>\n",
              "    </tr>\n",
              "    <tr>\n",
              "      <th>93832</th>\n",
              "      <td>0.85</td>\n",
              "      <td>18.23</td>\n",
              "      <td>1</td>\n",
              "      <td>21</td>\n",
              "      <td>18</td>\n",
              "      <td>1041.0</td>\n",
              "      <td>5.0</td>\n",
              "      <td>1</td>\n",
              "      <td>-14.0</td>\n",
              "      <td>24</td>\n",
              "    </tr>\n",
              "    <tr>\n",
              "      <th>107698</th>\n",
              "      <td>2.20</td>\n",
              "      <td>7.39</td>\n",
              "      <td>1</td>\n",
              "      <td>11</td>\n",
              "      <td>25</td>\n",
              "      <td>398.0</td>\n",
              "      <td>2.0</td>\n",
              "      <td>1</td>\n",
              "      <td>-5.0</td>\n",
              "      <td>9</td>\n",
              "    </tr>\n",
              "    <tr>\n",
              "      <th>13143</th>\n",
              "      <td>2.29</td>\n",
              "      <td>7.78</td>\n",
              "      <td>1</td>\n",
              "      <td>59</td>\n",
              "      <td>25</td>\n",
              "      <td>326.0</td>\n",
              "      <td>1.0</td>\n",
              "      <td>1</td>\n",
              "      <td>-8.0</td>\n",
              "      <td>13</td>\n",
              "    </tr>\n",
              "    <tr>\n",
              "      <th>84149</th>\n",
              "      <td>2.90</td>\n",
              "      <td>8.72</td>\n",
              "      <td>3</td>\n",
              "      <td>63</td>\n",
              "      <td>17</td>\n",
              "      <td>1392.0</td>\n",
              "      <td>1.0</td>\n",
              "      <td>1</td>\n",
              "      <td>-28.0</td>\n",
              "      <td>39</td>\n",
              "    </tr>\n",
              "  </tbody>\n",
              "</table>\n",
              "</div>"
            ],
            "text/plain": [
              "        order_products_value  order_freight_value  ...  atrasoentrega  prazo_entrega\n",
              "80202                   0.85                18.23  ...          -10.0             23\n",
              "93832                   0.85                18.23  ...          -14.0             24\n",
              "107698                  2.20                 7.39  ...           -5.0              9\n",
              "13143                   2.29                 7.78  ...           -8.0             13\n",
              "84149                   2.90                 8.72  ...          -28.0             39\n",
              "\n",
              "[5 rows x 10 columns]"
            ]
          },
          "metadata": {
            "tags": []
          },
          "execution_count": 60
        }
      ]
    },
    {
      "cell_type": "markdown",
      "metadata": {
        "id": "WBXA9fDROl0q"
      },
      "source": [
        "##Separando bases treino e teste"
      ]
    },
    {
      "cell_type": "code",
      "metadata": {
        "colab": {
          "base_uri": "https://localhost:8080/"
        },
        "id": "fuFxhAVz52Rq",
        "outputId": "0232b7a2-cb0a-4d88-afbb-06bf5cc2643b"
      },
      "source": [
        "x = dados[['order_freight_value','order_products_value','atrasoentrega','product_photos_qty','product_description_lenght',\n",
        "                'customer_state','prazo_entrega', 'product_category_name','order_id_qtd']]\n",
        "y = dados['review_score']\n",
        "\n",
        "SEED = 5\n",
        "np.random.seed(SEED)\n",
        "treino_x, teste_x, treino_y, teste_y = train_test_split(x, y, test_size = 0.25,\n",
        "                                                         stratify = y)\n",
        "print(\"Treinaremos com %d elementos e testaremos com %d elementos\" % (len(treino_x), len(teste_x)))\n"
      ],
      "execution_count": 61,
      "outputs": [
        {
          "output_type": "stream",
          "text": [
            "Treinaremos com 69129 elementos e testaremos com 23044 elementos\n"
          ],
          "name": "stdout"
        }
      ]
    },
    {
      "cell_type": "code",
      "metadata": {
        "colab": {
          "base_uri": "https://localhost:8080/"
        },
        "id": "7RXvRcTktZOH",
        "outputId": "90f80497-cff8-49f7-c161-72a6824d04de"
      },
      "source": [
        "dummy_stratified = DummyClassifier()\r\n",
        "dummy_stratified.fit(treino_x, treino_y)\r\n",
        "acuracia = dummy_stratified.score(teste_x, teste_y) * 100\r\n",
        "\r\n",
        "print(\"A acurácia do dummy stratified foi %.2f%%\" % acuracia)"
      ],
      "execution_count": 62,
      "outputs": [
        {
          "output_type": "stream",
          "text": [
            "A acurácia do dummy stratified foi 68.25%\n"
          ],
          "name": "stdout"
        },
        {
          "output_type": "stream",
          "text": [
            "/usr/local/lib/python3.6/dist-packages/sklearn/dummy.py:132: FutureWarning: The default value of strategy will change from stratified to prior in 0.24.\n",
            "  \"stratified to prior in 0.24.\", FutureWarning)\n"
          ],
          "name": "stderr"
        }
      ]
    },
    {
      "cell_type": "markdown",
      "metadata": {
        "id": "hzASIf0NansS"
      },
      "source": [
        "## Regrassão SUPORT VECTOR MACHINE SVM"
      ]
    },
    {
      "cell_type": "code",
      "metadata": {
        "colab": {
          "base_uri": "https://localhost:8080/"
        },
        "id": "M492aRlElAHh",
        "outputId": "016f13c0-2bf3-4f40-dfa4-72ddfdf4ea4f"
      },
      "source": [
        "modelo = svm.SVC()\r\n",
        "modelo.fit(treino_x, treino_y)"
      ],
      "execution_count": null,
      "outputs": [
        {
          "output_type": "execute_result",
          "data": {
            "text/plain": [
              "SVC(C=1.0, break_ties=False, cache_size=200, class_weight=None, coef0=0.0,\n",
              "    decision_function_shape='ovr', degree=3, gamma='scale', kernel='rbf',\n",
              "    max_iter=-1, probability=False, random_state=None, shrinking=True,\n",
              "    tol=0.001, verbose=False)"
            ]
          },
          "metadata": {
            "tags": []
          },
          "execution_count": 68
        }
      ]
    },
    {
      "cell_type": "code",
      "metadata": {
        "colab": {
          "base_uri": "https://localhost:8080/"
        },
        "id": "wsWAC9ellLsM",
        "outputId": "602d3684-e047-4eae-a761-f3cd63c55339"
      },
      "source": [
        "previsoes = modelo.predict(teste_x)\r\n",
        "\r\n",
        "acuracia = accuracy_score(teste_y, previsoes) * 100\r\n",
        "print(\"A acurácia foi %.2f%%\" % acuracia)"
      ],
      "execution_count": null,
      "outputs": [
        {
          "output_type": "stream",
          "text": [
            "A acurácia foi 80.32%\n"
          ],
          "name": "stdout"
        }
      ]
    },
    {
      "cell_type": "markdown",
      "metadata": {
        "id": "_S030YicMrZ5"
      },
      "source": [
        "## Regressão Linear"
      ]
    },
    {
      "cell_type": "code",
      "metadata": {
        "colab": {
          "base_uri": "https://localhost:8080/"
        },
        "id": "kP_mEQiE7e3R",
        "outputId": "9381183f-4a8f-4574-eb41-0298f0badf37"
      },
      "source": [
        "modelo = LinearSVC()\n",
        "modelo.fit(treino_x, treino_y)\n",
        "previsoes = modelo.predict(teste_x)\n",
        "\n",
        "acuracia = accuracy_score(teste_y, previsoes) * 100\n",
        "print(\"A acurácia foi %.2f%%\" % acuracia)"
      ],
      "execution_count": null,
      "outputs": [
        {
          "output_type": "stream",
          "text": [
            "A acurácia foi 80.11%\n"
          ],
          "name": "stdout"
        },
        {
          "output_type": "stream",
          "text": [
            "/usr/local/lib/python3.6/dist-packages/sklearn/svm/_base.py:947: ConvergenceWarning: Liblinear failed to converge, increase the number of iterations.\n",
            "  \"the number of iterations.\", ConvergenceWarning)\n"
          ],
          "name": "stderr"
        }
      ]
    },
    {
      "cell_type": "code",
      "metadata": {
        "colab": {
          "base_uri": "https://localhost:8080/"
        },
        "id": "5lyra8J7f3he",
        "outputId": "30154f0c-58d9-4598-8a41-ecddba026858"
      },
      "source": [
        "modelo.coef_"
      ],
      "execution_count": null,
      "outputs": [
        {
          "output_type": "execute_result",
          "data": {
            "text/plain": [
              "array([[-8.21505760e-04, -5.52862523e-04, -2.94538250e-02,\n",
              "         2.94484223e-03, -5.69351744e-05,  1.63625734e-03,\n",
              "        -1.39192073e-02,  4.00474006e-03, -6.02835209e-02]])"
            ]
          },
          "metadata": {
            "tags": []
          },
          "execution_count": 71
        }
      ]
    },
    {
      "cell_type": "code",
      "metadata": {
        "colab": {
          "base_uri": "https://localhost:8080/",
          "height": 369
        },
        "id": "g3NbHwjHRVnU",
        "outputId": "cbca3e31-1ba0-4761-865a-83476b18f6d1"
      },
      "source": [
        "plt.hist([teste_y, previsoes])"
      ],
      "execution_count": null,
      "outputs": [
        {
          "output_type": "execute_result",
          "data": {
            "text/plain": [
              "(array([[ 4535.,     0.,     0.,     0.,     0.,     0.,     0.,     0.,\n",
              "             0., 18509.],\n",
              "        [  170.,     0.,     0.,     0.,     0.,     0.,     0.,     0.,\n",
              "             0., 22874.]]),\n",
              " array([0. , 0.1, 0.2, 0.3, 0.4, 0.5, 0.6, 0.7, 0.8, 0.9, 1. ]),\n",
              " <a list of 2 Lists of Patches objects>)"
            ]
          },
          "metadata": {
            "tags": []
          },
          "execution_count": 72
        },
        {
          "output_type": "display_data",
          "data": {
            "image/png": "[encoded data removed]",
            "text/plain": [
              "<Figure size 432x288 with 1 Axes>"
            ]
          },
          "metadata": {
            "tags": [],
            "needs_background": "light"
          }
        }
      ]
    },
    {
      "cell_type": "code",
      "metadata": {
        "colab": {
          "base_uri": "https://localhost:8080/"
        },
        "id": "nMInIUy9mm8t",
        "outputId": "9322e932-f41e-4070-ae66-41d5ebe8796a"
      },
      "source": [
        "print(metrics.classification_report(teste_y,previsoes))"
      ],
      "execution_count": null,
      "outputs": [
        {
          "output_type": "stream",
          "text": [
            "              precision    recall  f1-score   support\n",
            "\n",
            "           0       0.36      0.01      0.03      4535\n",
            "           1       0.80      0.99      0.89     18509\n",
            "\n",
            "    accuracy                           0.80     23044\n",
            "   macro avg       0.58      0.50      0.46     23044\n",
            "weighted avg       0.72      0.80      0.72     23044\n",
            "\n"
          ],
          "name": "stdout"
        }
      ]
    },
    {
      "cell_type": "markdown",
      "metadata": {
        "id": "2la_EhV5VDF-"
      },
      "source": [
        "##Regressão"
      ]
    },
    {
      "cell_type": "code",
      "metadata": {
        "colab": {
          "base_uri": "https://localhost:8080/"
        },
        "id": "LfRqOG3fPOld",
        "outputId": "e1157241-ca56-4734-c8ca-ac73fa44fce1"
      },
      "source": [
        "SEED = 5\n",
        "np.random.seed(SEED)\n",
        "raw_treino_x, raw_teste_x, treino_y, teste_y = train_test_split(x, y, test_size = 0.25,\n",
        "                                                         stratify = y)\n",
        "\n",
        "scaler = StandardScaler()\n",
        "scaler.fit(raw_treino_x)\n",
        "treino_x = scaler.transform(raw_treino_x)\n",
        "teste_x = scaler.transform(raw_teste_x)\n",
        "\n",
        "modelo = SVC()\n",
        "modelo.fit(treino_x, treino_y)\n",
        "previsoes = modelo.predict(teste_x)\n",
        "\n",
        "acuracia = accuracy_score(teste_y, previsoes) * 100\n",
        "print(\"A acurácia foi %.2f%%\" % acuracia)"
      ],
      "execution_count": null,
      "outputs": [
        {
          "output_type": "stream",
          "text": [
            "A acurácia foi 81.60%\n"
          ],
          "name": "stdout"
        }
      ]
    },
    {
      "cell_type": "code",
      "metadata": {
        "colab": {
          "base_uri": "https://localhost:8080/",
          "height": 369
        },
        "id": "phxbn_5iS3gr",
        "outputId": "d12c49e3-ad1a-4a0b-c6f6-cd82e44fcd35"
      },
      "source": [
        "plt.hist([teste_y, previsoes])"
      ],
      "execution_count": null,
      "outputs": [
        {
          "output_type": "execute_result",
          "data": {
            "text/plain": [
              "(array([[ 4535.,     0.,     0.,     0.,     0.,     0.,     0.,     0.,\n",
              "             0., 18509.],\n",
              "        [  517.,     0.,     0.,     0.,     0.,     0.,     0.,     0.,\n",
              "             0., 22527.]]),\n",
              " array([0. , 0.1, 0.2, 0.3, 0.4, 0.5, 0.6, 0.7, 0.8, 0.9, 1. ]),\n",
              " <a list of 2 Lists of Patches objects>)"
            ]
          },
          "metadata": {
            "tags": []
          },
          "execution_count": 75
        },
        {
          "output_type": "display_data",
          "data": {
            "image/png": "[encoded data removed]",
            "text/plain": [
              "<Figure size 432x288 with 1 Axes>"
            ]
          },
          "metadata": {
            "tags": [],
            "needs_background": "light"
          }
        }
      ]
    },
    {
      "cell_type": "markdown",
      "metadata": {
        "id": "6JTwPHQ-p2My"
      },
      "source": [
        "##Random forest regressor"
      ]
    },
    {
      "cell_type": "code",
      "metadata": {
        "colab": {
          "base_uri": "https://localhost:8080/"
        },
        "id": "VYpmv1S808YE",
        "outputId": "28dfb425-1504-4cb2-c8c7-dd315e502c76"
      },
      "source": [
        "forest_reg = RandomForestRegressor(criterion= 'mse') # n_estimators= 50 ,max_depth=10, bootstrap= True\r\n",
        "forest_reg.fit(treino_x, treino_y)\r\n",
        "\r\n",
        "predictions = forest_reg.predict(teste_x)\r\n",
        "forest_mse = mean_squared_error(teste_y, predictions)\r\n",
        "forest_rmse = np.sqrt(forest_mse)\r\n",
        "forest_rmse\r\n",
        "\r\n",
        "errors = abs(predictions - teste_y)\r\n",
        "MSE=round(np.mean(errors),2)\r\n",
        "MAPE=100*(errors/teste_y)\r\n",
        "accuracy=round (100 - np.mean(MAPE),2)\r\n",
        "\r\n",
        "print(\"A acurácia foi %.2f%%\" % accuracy)\r\n"
      ],
      "execution_count": null,
      "outputs": [
        {
          "output_type": "stream",
          "text": [
            "A acurácia foi -inf%\n"
          ],
          "name": "stdout"
        }
      ]
    },
    {
      "cell_type": "code",
      "metadata": {
        "colab": {
          "base_uri": "https://localhost:8080/"
        },
        "id": "TnXgPzf6cCLU",
        "outputId": "28d4a11a-eba7-4563-9486-4930a94786fd"
      },
      "source": [
        "forest_rmse"
      ],
      "execution_count": null,
      "outputs": [
        {
          "output_type": "execute_result",
          "data": {
            "text/plain": [
              "0.3893397107107334"
            ]
          },
          "metadata": {
            "tags": []
          },
          "execution_count": 84
        }
      ]
    },
    {
      "cell_type": "markdown",
      "metadata": {
        "id": "ZS7VVEO3MYw9"
      },
      "source": [
        "##Naive Bayes"
      ]
    },
    {
      "cell_type": "code",
      "metadata": {
        "colab": {
          "base_uri": "https://localhost:8080/"
        },
        "id": "tuXM5cIMMXyv",
        "outputId": "80baea8e-9e7f-4663-d39a-1d3fa26f8f18"
      },
      "source": [
        "gnb = GaussianNB()\n",
        "y_pred = gnb.fit(treino_x,treino_y).predict(teste_x)\n",
        "\n",
        "ac = gnb.score(teste_x, teste_y)\n",
        "\n",
        "print(\"\\nAcurácia do modelo: {0:.2f}%\\n\".format(100*ac))"
      ],
      "execution_count": 63,
      "outputs": [
        {
          "output_type": "stream",
          "text": [
            "\n",
            "Acurácia do modelo: 78.78%\n",
            "\n"
          ],
          "name": "stdout"
        }
      ]
    },
    {
      "cell_type": "code",
      "metadata": {
        "colab": {
          "base_uri": "https://localhost:8080/"
        },
        "id": "L2wpL5bnNhCF",
        "outputId": "52ebe0fc-689a-4774-9da6-f2bd8594266f"
      },
      "source": [
        "print(metrics.classification_report(teste_y,y_pred))"
      ],
      "execution_count": 64,
      "outputs": [
        {
          "output_type": "stream",
          "text": [
            "              precision    recall  f1-score   support\n",
            "\n",
            "           0       0.39      0.13      0.20      4535\n",
            "           1       0.82      0.95      0.88     18509\n",
            "\n",
            "    accuracy                           0.79     23044\n",
            "   macro avg       0.60      0.54      0.54     23044\n",
            "weighted avg       0.73      0.79      0.74     23044\n",
            "\n"
          ],
          "name": "stdout"
        }
      ]
    },
    {
      "cell_type": "code",
      "metadata": {
        "colab": {
          "base_uri": "https://localhost:8080/",
          "height": 369
        },
        "id": "IXrpVGj0aEvN",
        "outputId": "8e459ef1-1716-49f4-add8-3f4808441724"
      },
      "source": [
        "plt.hist([teste_y, y_pred])"
      ],
      "execution_count": 65,
      "outputs": [
        {
          "output_type": "execute_result",
          "data": {
            "text/plain": [
              "(array([[ 4535.,     0.,     0.,     0.,     0.,     0.,     0.,     0.,\n",
              "             0., 18509.],\n",
              "        [ 1566.,     0.,     0.,     0.,     0.,     0.,     0.,     0.,\n",
              "             0., 21478.]]),\n",
              " array([0. , 0.1, 0.2, 0.3, 0.4, 0.5, 0.6, 0.7, 0.8, 0.9, 1. ]),\n",
              " <a list of 2 Lists of Patches objects>)"
            ]
          },
          "metadata": {
            "tags": []
          },
          "execution_count": 65
        },
        {
          "output_type": "display_data",
          "data": {
            "image/png": "[encoded data removed]",
            "text/plain": [
              "<Figure size 432x288 with 1 Axes>"
            ]
          },
          "metadata": {
            "tags": [],
            "needs_background": "light"
          }
        }
      ]
    },
    {
      "cell_type": "markdown",
      "metadata": {
        "id": "CK-u8-YJVUu1"
      },
      "source": [
        "##Árvore de decisão"
      ]
    },
    {
      "cell_type": "code",
      "metadata": {
        "id": "QA3LovcEVQlc"
      },
      "source": [
        "modelo = DecisionTreeClassifier(max_depth=3)\n",
        "modelo.fit(treino_x, treino_y)\n",
        "previsoes = modelo.predict(teste_x)\n",
        "\n",
        "acuracia = accuracy_score(teste_y, previsoes) * 100\n",
        "print(\"A acurácia foi %.2f%%\" % acuracia)"
      ],
      "execution_count": null,
      "outputs": []
    },
    {
      "cell_type": "code",
      "metadata": {
        "id": "PQnP1-tybELc"
      },
      "source": [
        "print(metrics.classification_report(teste_y,previsoes))"
      ],
      "execution_count": null,
      "outputs": []
    },
    {
      "cell_type": "code",
      "metadata": {
        "colab": {
          "base_uri": "https://localhost:8080/",
          "height": 369
        },
        "id": "oqpfNtNSZB29",
        "outputId": "11ca82c6-16be-4453-b0be-37a774945c78"
      },
      "source": [
        "plt.hist([teste_y, previsoes])"
      ],
      "execution_count": 68,
      "outputs": [
        {
          "output_type": "execute_result",
          "data": {
            "text/plain": [
              "(array([[ 4535.,     0.,     0.,     0.,     0.,     0.,     0.,     0.,\n",
              "             0., 18509.],\n",
              "        [  613.,     0.,     0.,     0.,     0.,     0.,     0.,     0.,\n",
              "             0., 22431.]]),\n",
              " array([0. , 0.1, 0.2, 0.3, 0.4, 0.5, 0.6, 0.7, 0.8, 0.9, 1. ]),\n",
              " <a list of 2 Lists of Patches objects>)"
            ]
          },
          "metadata": {
            "tags": []
          },
          "execution_count": 68
        },
        {
          "output_type": "display_data",
          "data": {
            "image/png": "[encoded data removed]",
            "text/plain": [
              "<Figure size 432x288 with 1 Axes>"
            ]
          },
          "metadata": {
            "tags": [],
            "needs_background": "light"
          }
        }
      ]
    },
    {
      "cell_type": "code",
      "metadata": {
        "colab": {
          "base_uri": "https://localhost:8080/",
          "height": 698
        },
        "id": "8ZCVLKpDlrFD",
        "outputId": "e15a846e-4cf4-48a1-e5ae-1934e4109743"
      },
      "source": [
        "dot_data = tree.export_graphviz( \r\n",
        "         modelo, \r\n",
        "         out_file=None,\r\n",
        "         feature_names=['order_freight_value','order_products_value','atrasoentrega','product_photos_qty','product_description_lenght',\r\n",
        "                'customer_state','prazo_entrega','product_category_name','order_id_qtd'],\r\n",
        "         class_names=['0','1'],  \r\n",
        "         filled=True, rounded=True,\r\n",
        "         proportion=True,\r\n",
        "         node_ids=True,\r\n",
        "         rotate=False,\r\n",
        "         label='all',\r\n",
        "         special_characters=True\r\n",
        "        )  \r\n",
        "graph = graphviz.Source(dot_data)  \r\n",
        "graph"
      ],
      "execution_count": 69,
      "outputs": [
        {
          "output_type": "execute_result",
          "data": {
            "text/plain": [
              "<graphviz.files.Source at 0x7f8242d18b00>"
            ],
            "image/svg+xml": "<?xml version=\"1.0\" encoding=\"UTF-8\" standalone=\"no\"?>\n<!DOCTYPE svg PUBLIC \"-//W3C//DTD SVG 1.1//EN\"\n \"http://www.w3.org/Graphics/SVG/1.1/DTD/svg11.dtd\">\n<!-- Generated by graphviz version 2.40.1 (20161225.0304)\n -->\n<!-- Title: Tree Pages: 1 -->\n<svg width=\"1334pt\" height=\"493pt\"\n viewBox=\"0.00 0.00 1334.00 493.00\" xmlns=\"http://www.w3.org/2000/svg\" xmlns:xlink=\"http://www.w3.org/1999/xlink\">\n<g id=\"graph0\" class=\"graph\" transform=\"scale(1 1) rotate(0) translate(4 489)\">\n<title>Tree</title>\n<polygon fill=\"#ffffff\" stroke=\"transparent\" points=\"-4,4 -4,-489 1330,-489 1330,4 -4,4\"/>\n<!-- 0 -->\n<g id=\"node1\" class=\"node\">\n<title>0</title>\n<path fill=\"#6ab5eb\" stroke=\"#000000\" d=\"M720,-485C720,-485 588,-485 588,-485 582,-485 576,-479 576,-473 576,-473 576,-399 576,-399 576,-393 582,-387 588,-387 588,-387 720,-387 720,-387 726,-387 732,-393 732,-399 732,-399 732,-473 732,-473 732,-479 726,-485 720,-485\"/>\n<text text-anchor=\"start\" x=\"627\" y=\"-469.8\" font-family=\"Helvetica,sans-Serif\" font-size=\"14.00\" fill=\"#000000\">node #0</text>\n<text text-anchor=\"start\" x=\"591\" y=\"-454.8\" font-family=\"Helvetica,sans-Serif\" font-size=\"14.00\" fill=\"#000000\">atrasoentrega ≤ 1.5</text>\n<text text-anchor=\"start\" x=\"616\" y=\"-439.8\" font-family=\"Helvetica,sans-Serif\" font-size=\"14.00\" fill=\"#000000\">gini = 0.316</text>\n<text text-anchor=\"start\" x=\"593.5\" y=\"-424.8\" font-family=\"Helvetica,sans-Serif\" font-size=\"14.00\" fill=\"#000000\">samples = 100.0%</text>\n<text text-anchor=\"start\" x=\"584\" y=\"-409.8\" font-family=\"Helvetica,sans-Serif\" font-size=\"14.00\" fill=\"#000000\">value = [0.197, 0.803]</text>\n<text text-anchor=\"start\" x=\"625\" y=\"-394.8\" font-family=\"Helvetica,sans-Serif\" font-size=\"14.00\" fill=\"#000000\">class = 1</text>\n</g>\n<!-- 1 -->\n<g id=\"node2\" class=\"node\">\n<title>1</title>\n<path fill=\"#64b2eb\" stroke=\"#000000\" d=\"M594,-351C594,-351 462,-351 462,-351 456,-351 450,-345 450,-339 450,-339 450,-265 450,-265 450,-259 456,-253 462,-253 462,-253 594,-253 594,-253 600,-253 606,-259 606,-265 606,-265 606,-339 606,-339 606,-345 600,-351 594,-351\"/>\n<text text-anchor=\"start\" x=\"501\" y=\"-335.8\" font-family=\"Helvetica,sans-Serif\" font-size=\"14.00\" fill=\"#000000\">node #1</text>\n<text text-anchor=\"start\" x=\"469\" y=\"-320.8\" font-family=\"Helvetica,sans-Serif\" font-size=\"14.00\" fill=\"#000000\">order_id_qtd ≤ 3.5</text>\n<text text-anchor=\"start\" x=\"490\" y=\"-305.8\" font-family=\"Helvetica,sans-Serif\" font-size=\"14.00\" fill=\"#000000\">gini = 0.293</text>\n<text text-anchor=\"start\" x=\"472\" y=\"-290.8\" font-family=\"Helvetica,sans-Serif\" font-size=\"14.00\" fill=\"#000000\">samples = 96.5%</text>\n<text text-anchor=\"start\" x=\"458\" y=\"-275.8\" font-family=\"Helvetica,sans-Serif\" font-size=\"14.00\" fill=\"#000000\">value = [0.178, 0.822]</text>\n<text text-anchor=\"start\" x=\"499\" y=\"-260.8\" font-family=\"Helvetica,sans-Serif\" font-size=\"14.00\" fill=\"#000000\">class = 1</text>\n</g>\n<!-- 0&#45;&gt;1 -->\n<g id=\"edge1\" class=\"edge\">\n<title>0&#45;&gt;1</title>\n<path fill=\"none\" stroke=\"#000000\" d=\"M607.7977,-386.8642C599.1522,-377.6698 590.0514,-367.9912 581.214,-358.5926\"/>\n<polygon fill=\"#000000\" stroke=\"#000000\" points=\"583.5968,-356.0174 574.1967,-351.1298 578.4972,-360.8126 583.5968,-356.0174\"/>\n<text text-anchor=\"middle\" x=\"573.4278\" y=\"-372.418\" font-family=\"Helvetica,sans-Serif\" font-size=\"14.00\" fill=\"#000000\">True</text>\n</g>\n<!-- 8 -->\n<g id=\"node9\" class=\"node\">\n<title>8</title>\n<path fill=\"#efb488\" stroke=\"#000000\" d=\"M847,-351C847,-351 715,-351 715,-351 709,-351 703,-345 703,-339 703,-339 703,-265 703,-265 703,-259 709,-253 715,-253 715,-253 847,-253 847,-253 853,-253 859,-259 859,-265 859,-265 859,-339 859,-339 859,-345 853,-351 847,-351\"/>\n<text text-anchor=\"start\" x=\"754\" y=\"-335.8\" font-family=\"Helvetica,sans-Serif\" font-size=\"14.00\" fill=\"#000000\">node #8</text>\n<text text-anchor=\"start\" x=\"718\" y=\"-320.8\" font-family=\"Helvetica,sans-Serif\" font-size=\"14.00\" fill=\"#000000\">atrasoentrega ≤ 4.5</text>\n<text text-anchor=\"start\" x=\"743\" y=\"-305.8\" font-family=\"Helvetica,sans-Serif\" font-size=\"14.00\" fill=\"#000000\">gini = 0.409</text>\n<text text-anchor=\"start\" x=\"729\" y=\"-290.8\" font-family=\"Helvetica,sans-Serif\" font-size=\"14.00\" fill=\"#000000\">samples = 3.5%</text>\n<text text-anchor=\"start\" x=\"711\" y=\"-275.8\" font-family=\"Helvetica,sans-Serif\" font-size=\"14.00\" fill=\"#000000\">value = [0.714, 0.286]</text>\n<text text-anchor=\"start\" x=\"752\" y=\"-260.8\" font-family=\"Helvetica,sans-Serif\" font-size=\"14.00\" fill=\"#000000\">class = 0</text>\n</g>\n<!-- 0&#45;&gt;8 -->\n<g id=\"edge8\" class=\"edge\">\n<title>0&#45;&gt;8</title>\n<path fill=\"none\" stroke=\"#000000\" d=\"M700.569,-386.8642C709.2831,-377.6698 718.4561,-367.9912 727.3637,-358.5926\"/>\n<polygon fill=\"#000000\" stroke=\"#000000\" points=\"730.098,-360.7956 734.4367,-351.1298 725.0173,-355.9803 730.098,-360.7956\"/>\n<text text-anchor=\"middle\" x=\"735.1069\" y=\"-372.4208\" font-family=\"Helvetica,sans-Serif\" font-size=\"14.00\" fill=\"#000000\">False</text>\n</g>\n<!-- 2 -->\n<g id=\"node3\" class=\"node\">\n<title>2</title>\n<path fill=\"#61b1ea\" stroke=\"#000000\" d=\"M302,-217C302,-217 170,-217 170,-217 164,-217 158,-211 158,-205 158,-205 158,-131 158,-131 158,-125 164,-119 170,-119 170,-119 302,-119 302,-119 308,-119 314,-125 314,-131 314,-131 314,-205 314,-205 314,-211 308,-217 302,-217\"/>\n<text text-anchor=\"start\" x=\"209\" y=\"-201.8\" font-family=\"Helvetica,sans-Serif\" font-size=\"14.00\" fill=\"#000000\">node #2</text>\n<text text-anchor=\"start\" x=\"171\" y=\"-186.8\" font-family=\"Helvetica,sans-Serif\" font-size=\"14.00\" fill=\"#000000\">atrasoentrega ≤ &#45;4.5</text>\n<text text-anchor=\"start\" x=\"198\" y=\"-171.8\" font-family=\"Helvetica,sans-Serif\" font-size=\"14.00\" fill=\"#000000\">gini = 0.281</text>\n<text text-anchor=\"start\" x=\"180\" y=\"-156.8\" font-family=\"Helvetica,sans-Serif\" font-size=\"14.00\" fill=\"#000000\">samples = 92.7%</text>\n<text text-anchor=\"start\" x=\"166\" y=\"-141.8\" font-family=\"Helvetica,sans-Serif\" font-size=\"14.00\" fill=\"#000000\">value = [0.169, 0.831]</text>\n<text text-anchor=\"start\" x=\"207\" y=\"-126.8\" font-family=\"Helvetica,sans-Serif\" font-size=\"14.00\" fill=\"#000000\">class = 1</text>\n</g>\n<!-- 1&#45;&gt;2 -->\n<g id=\"edge2\" class=\"edge\">\n<title>1&#45;&gt;2</title>\n<path fill=\"none\" stroke=\"#000000\" d=\"M449.7494,-266.0905C410.8031,-248.2179 363.5925,-226.5527 323.4563,-208.1341\"/>\n<polygon fill=\"#000000\" stroke=\"#000000\" points=\"324.7617,-204.8822 314.2132,-203.8923 321.842,-211.2443 324.7617,-204.8822\"/>\n</g>\n<!-- 5 -->\n<g id=\"node6\" class=\"node\">\n<title>5</title>\n<path fill=\"#bedff6\" stroke=\"#000000\" d=\"M613,-217C613,-217 443,-217 443,-217 437,-217 431,-211 431,-205 431,-205 431,-131 431,-131 431,-125 437,-119 443,-119 443,-119 613,-119 613,-119 619,-119 625,-125 625,-131 625,-131 625,-205 625,-205 625,-211 619,-217 613,-217\"/>\n<text text-anchor=\"start\" x=\"501\" y=\"-201.8\" font-family=\"Helvetica,sans-Serif\" font-size=\"14.00\" fill=\"#000000\">node #5</text>\n<text text-anchor=\"start\" x=\"439\" y=\"-186.8\" font-family=\"Helvetica,sans-Serif\" font-size=\"14.00\" fill=\"#000000\">order_freight_value ≤ 20.69</text>\n<text text-anchor=\"start\" x=\"490\" y=\"-171.8\" font-family=\"Helvetica,sans-Serif\" font-size=\"14.00\" fill=\"#000000\">gini = 0.481</text>\n<text text-anchor=\"start\" x=\"476\" y=\"-156.8\" font-family=\"Helvetica,sans-Serif\" font-size=\"14.00\" fill=\"#000000\">samples = 3.8%</text>\n<text text-anchor=\"start\" x=\"458\" y=\"-141.8\" font-family=\"Helvetica,sans-Serif\" font-size=\"14.00\" fill=\"#000000\">value = [0.402, 0.598]</text>\n<text text-anchor=\"start\" x=\"499\" y=\"-126.8\" font-family=\"Helvetica,sans-Serif\" font-size=\"14.00\" fill=\"#000000\">class = 1</text>\n</g>\n<!-- 1&#45;&gt;5 -->\n<g id=\"edge5\" class=\"edge\">\n<title>1&#45;&gt;5</title>\n<path fill=\"none\" stroke=\"#000000\" d=\"M528,-252.8642C528,-244.5802 528,-235.903 528,-227.3918\"/>\n<polygon fill=\"#000000\" stroke=\"#000000\" points=\"531.5001,-227.1298 528,-217.1298 524.5001,-227.1299 531.5001,-227.1298\"/>\n</g>\n<!-- 3 -->\n<g id=\"node4\" class=\"node\">\n<title>3</title>\n<path fill=\"#5fb0ea\" stroke=\"#000000\" d=\"M128,-83C128,-83 12,-83 12,-83 6,-83 0,-77 0,-71 0,-71 0,-12 0,-12 0,-6 6,0 12,0 12,0 128,0 128,0 134,0 140,-6 140,-12 140,-12 140,-71 140,-71 140,-77 134,-83 128,-83\"/>\n<text text-anchor=\"start\" x=\"43\" y=\"-67.8\" font-family=\"Helvetica,sans-Serif\" font-size=\"14.00\" fill=\"#000000\">node #3</text>\n<text text-anchor=\"start\" x=\"32\" y=\"-52.8\" font-family=\"Helvetica,sans-Serif\" font-size=\"14.00\" fill=\"#000000\">gini = 0.269</text>\n<text text-anchor=\"start\" x=\"14\" y=\"-37.8\" font-family=\"Helvetica,sans-Serif\" font-size=\"14.00\" fill=\"#000000\">samples = 83.4%</text>\n<text text-anchor=\"start\" x=\"8\" y=\"-22.8\" font-family=\"Helvetica,sans-Serif\" font-size=\"14.00\" fill=\"#000000\">value = [0.16, 0.84]</text>\n<text text-anchor=\"start\" x=\"41\" y=\"-7.8\" font-family=\"Helvetica,sans-Serif\" font-size=\"14.00\" fill=\"#000000\">class = 1</text>\n</g>\n<!-- 2&#45;&gt;3 -->\n<g id=\"edge3\" class=\"edge\">\n<title>2&#45;&gt;3</title>\n<path fill=\"none\" stroke=\"#000000\" d=\"M171.3447,-118.7296C158.6496,-109.0553 145.3517,-98.9216 132.7212,-89.2966\"/>\n<polygon fill=\"#000000\" stroke=\"#000000\" points=\"134.6058,-86.3323 124.5306,-83.055 130.363,-91.9 134.6058,-86.3323\"/>\n</g>\n<!-- 4 -->\n<g id=\"node5\" class=\"node\">\n<title>4</title>\n<path fill=\"#79bded\" stroke=\"#000000\" d=\"M302,-83C302,-83 170,-83 170,-83 164,-83 158,-77 158,-71 158,-71 158,-12 158,-12 158,-6 164,0 170,0 170,0 302,0 302,0 308,0 314,-6 314,-12 314,-12 314,-71 314,-71 314,-77 308,-83 302,-83\"/>\n<text text-anchor=\"start\" x=\"209\" y=\"-67.8\" font-family=\"Helvetica,sans-Serif\" font-size=\"14.00\" fill=\"#000000\">node #4</text>\n<text text-anchor=\"start\" x=\"198\" y=\"-52.8\" font-family=\"Helvetica,sans-Serif\" font-size=\"14.00\" fill=\"#000000\">gini = 0.369</text>\n<text text-anchor=\"start\" x=\"184\" y=\"-37.8\" font-family=\"Helvetica,sans-Serif\" font-size=\"14.00\" fill=\"#000000\">samples = 9.3%</text>\n<text text-anchor=\"start\" x=\"166\" y=\"-22.8\" font-family=\"Helvetica,sans-Serif\" font-size=\"14.00\" fill=\"#000000\">value = [0.245, 0.755]</text>\n<text text-anchor=\"start\" x=\"207\" y=\"-7.8\" font-family=\"Helvetica,sans-Serif\" font-size=\"14.00\" fill=\"#000000\">class = 1</text>\n</g>\n<!-- 2&#45;&gt;4 -->\n<g id=\"edge4\" class=\"edge\">\n<title>2&#45;&gt;4</title>\n<path fill=\"none\" stroke=\"#000000\" d=\"M236,-118.7296C236,-110.3452 236,-101.6158 236,-93.1714\"/>\n<polygon fill=\"#000000\" stroke=\"#000000\" points=\"239.5001,-93.0549 236,-83.055 232.5001,-93.055 239.5001,-93.0549\"/>\n</g>\n<!-- 6 -->\n<g id=\"node7\" class=\"node\">\n<title>6</title>\n<path fill=\"#a3d2f3\" stroke=\"#000000\" d=\"M460,-83C460,-83 344,-83 344,-83 338,-83 332,-77 332,-71 332,-71 332,-12 332,-12 332,-6 338,0 344,0 344,0 460,0 460,0 466,0 472,-6 472,-12 472,-12 472,-71 472,-71 472,-77 466,-83 460,-83\"/>\n<text text-anchor=\"start\" x=\"375\" y=\"-67.8\" font-family=\"Helvetica,sans-Serif\" font-size=\"14.00\" fill=\"#000000\">node #6</text>\n<text text-anchor=\"start\" x=\"364\" y=\"-52.8\" font-family=\"Helvetica,sans-Serif\" font-size=\"14.00\" fill=\"#000000\">gini = 0.455</text>\n<text text-anchor=\"start\" x=\"350\" y=\"-37.8\" font-family=\"Helvetica,sans-Serif\" font-size=\"14.00\" fill=\"#000000\">samples = 2.4%</text>\n<text text-anchor=\"start\" x=\"340\" y=\"-22.8\" font-family=\"Helvetica,sans-Serif\" font-size=\"14.00\" fill=\"#000000\">value = [0.35, 0.65]</text>\n<text text-anchor=\"start\" x=\"373\" y=\"-7.8\" font-family=\"Helvetica,sans-Serif\" font-size=\"14.00\" fill=\"#000000\">class = 1</text>\n</g>\n<!-- 5&#45;&gt;6 -->\n<g id=\"edge6\" class=\"edge\">\n<title>5&#45;&gt;6</title>\n<path fill=\"none\" stroke=\"#000000\" d=\"M478.9243,-118.7296C469.6553,-109.4238 459.963,-99.6931 450.7055,-90.3988\"/>\n<polygon fill=\"#000000\" stroke=\"#000000\" points=\"452.9276,-87.6701 443.3907,-83.055 447.968,-92.61 452.9276,-87.6701\"/>\n</g>\n<!-- 7 -->\n<g id=\"node8\" class=\"node\">\n<title>7</title>\n<path fill=\"#fcfdff\" stroke=\"#000000\" d=\"M634,-83C634,-83 502,-83 502,-83 496,-83 490,-77 490,-71 490,-71 490,-12 490,-12 490,-6 496,0 502,0 502,0 634,0 634,0 640,0 646,-6 646,-12 646,-12 646,-71 646,-71 646,-77 640,-83 634,-83\"/>\n<text text-anchor=\"start\" x=\"541\" y=\"-67.8\" font-family=\"Helvetica,sans-Serif\" font-size=\"14.00\" fill=\"#000000\">node #7</text>\n<text text-anchor=\"start\" x=\"538.5\" y=\"-52.8\" font-family=\"Helvetica,sans-Serif\" font-size=\"14.00\" fill=\"#000000\">gini = 0.5</text>\n<text text-anchor=\"start\" x=\"516\" y=\"-37.8\" font-family=\"Helvetica,sans-Serif\" font-size=\"14.00\" fill=\"#000000\">samples = 1.3%</text>\n<text text-anchor=\"start\" x=\"498\" y=\"-22.8\" font-family=\"Helvetica,sans-Serif\" font-size=\"14.00\" fill=\"#000000\">value = [0.496, 0.504]</text>\n<text text-anchor=\"start\" x=\"539\" y=\"-7.8\" font-family=\"Helvetica,sans-Serif\" font-size=\"14.00\" fill=\"#000000\">class = 1</text>\n</g>\n<!-- 5&#45;&gt;7 -->\n<g id=\"edge7\" class=\"edge\">\n<title>5&#45;&gt;7</title>\n<path fill=\"none\" stroke=\"#000000\" d=\"M543.5796,-118.7296C546.289,-110.1609 549.1124,-101.2319 551.8371,-92.6151\"/>\n<polygon fill=\"#000000\" stroke=\"#000000\" points=\"555.1822,-93.6449 554.8601,-83.055 548.508,-91.5344 555.1822,-93.6449\"/>\n</g>\n<!-- 9 -->\n<g id=\"node10\" class=\"node\">\n<title>9</title>\n<path fill=\"#f7d9c4\" stroke=\"#000000\" d=\"M847,-217C847,-217 715,-217 715,-217 709,-217 703,-211 703,-205 703,-205 703,-131 703,-131 703,-125 709,-119 715,-119 715,-119 847,-119 847,-119 853,-119 859,-125 859,-131 859,-131 859,-205 859,-205 859,-211 853,-217 847,-217\"/>\n<text text-anchor=\"start\" x=\"754\" y=\"-201.8\" font-family=\"Helvetica,sans-Serif\" font-size=\"14.00\" fill=\"#000000\">node #9</text>\n<text text-anchor=\"start\" x=\"718\" y=\"-186.8\" font-family=\"Helvetica,sans-Serif\" font-size=\"14.00\" fill=\"#000000\">atrasoentrega ≤ 2.5</text>\n<text text-anchor=\"start\" x=\"743\" y=\"-171.8\" font-family=\"Helvetica,sans-Serif\" font-size=\"14.00\" fill=\"#000000\">gini = 0.485</text>\n<text text-anchor=\"start\" x=\"729\" y=\"-156.8\" font-family=\"Helvetica,sans-Serif\" font-size=\"14.00\" fill=\"#000000\">samples = 1.6%</text>\n<text text-anchor=\"start\" x=\"711\" y=\"-141.8\" font-family=\"Helvetica,sans-Serif\" font-size=\"14.00\" fill=\"#000000\">value = [0.588, 0.412]</text>\n<text text-anchor=\"start\" x=\"752\" y=\"-126.8\" font-family=\"Helvetica,sans-Serif\" font-size=\"14.00\" fill=\"#000000\">class = 0</text>\n</g>\n<!-- 8&#45;&gt;9 -->\n<g id=\"edge9\" class=\"edge\">\n<title>8&#45;&gt;9</title>\n<path fill=\"none\" stroke=\"#000000\" d=\"M781,-252.8642C781,-244.5802 781,-235.903 781,-227.3918\"/>\n<polygon fill=\"#000000\" stroke=\"#000000\" points=\"784.5001,-227.1298 781,-217.1298 777.5001,-227.1299 784.5001,-227.1298\"/>\n</g>\n<!-- 12 -->\n<g id=\"node13\" class=\"node\">\n<title>12</title>\n<path fill=\"#eb9c63\" stroke=\"#000000\" d=\"M1148,-217C1148,-217 1016,-217 1016,-217 1010,-217 1004,-211 1004,-205 1004,-205 1004,-131 1004,-131 1004,-125 1010,-119 1016,-119 1016,-119 1148,-119 1148,-119 1154,-119 1160,-125 1160,-131 1160,-131 1160,-205 1160,-205 1160,-211 1154,-217 1148,-217\"/>\n<text text-anchor=\"start\" x=\"1051\" y=\"-201.8\" font-family=\"Helvetica,sans-Serif\" font-size=\"14.00\" fill=\"#000000\">node #12</text>\n<text text-anchor=\"start\" x=\"1019\" y=\"-186.8\" font-family=\"Helvetica,sans-Serif\" font-size=\"14.00\" fill=\"#000000\">atrasoentrega ≤ 6.5</text>\n<text text-anchor=\"start\" x=\"1048.5\" y=\"-171.8\" font-family=\"Helvetica,sans-Serif\" font-size=\"14.00\" fill=\"#000000\">gini = 0.29</text>\n<text text-anchor=\"start\" x=\"1030\" y=\"-156.8\" font-family=\"Helvetica,sans-Serif\" font-size=\"14.00\" fill=\"#000000\">samples = 1.9%</text>\n<text text-anchor=\"start\" x=\"1012\" y=\"-141.8\" font-family=\"Helvetica,sans-Serif\" font-size=\"14.00\" fill=\"#000000\">value = [0.824, 0.176]</text>\n<text text-anchor=\"start\" x=\"1053\" y=\"-126.8\" font-family=\"Helvetica,sans-Serif\" font-size=\"14.00\" fill=\"#000000\">class = 0</text>\n</g>\n<!-- 8&#45;&gt;12 -->\n<g id=\"edge12\" class=\"edge\">\n<title>8&#45;&gt;12</title>\n<path fill=\"none\" stroke=\"#000000\" d=\"M859.2984,-267.1429C900.7615,-248.6843 951.8064,-225.9599 994.5619,-206.9259\"/>\n<polygon fill=\"#000000\" stroke=\"#000000\" points=\"996.1204,-210.0633 1003.8325,-202.7988 993.2734,-203.6684 996.1204,-210.0633\"/>\n</g>\n<!-- 10 -->\n<g id=\"node11\" class=\"node\">\n<title>10</title>\n<path fill=\"#f8fcfe\" stroke=\"#000000\" d=\"M808,-83C808,-83 676,-83 676,-83 670,-83 664,-77 664,-71 664,-71 664,-12 664,-12 664,-6 670,0 676,0 676,0 808,0 808,0 814,0 820,-6 820,-12 820,-12 820,-71 820,-71 820,-77 814,-83 808,-83\"/>\n<text text-anchor=\"start\" x=\"711\" y=\"-67.8\" font-family=\"Helvetica,sans-Serif\" font-size=\"14.00\" fill=\"#000000\">node #10</text>\n<text text-anchor=\"start\" x=\"712.5\" y=\"-52.8\" font-family=\"Helvetica,sans-Serif\" font-size=\"14.00\" fill=\"#000000\">gini = 0.5</text>\n<text text-anchor=\"start\" x=\"690\" y=\"-37.8\" font-family=\"Helvetica,sans-Serif\" font-size=\"14.00\" fill=\"#000000\">samples = 0.6%</text>\n<text text-anchor=\"start\" x=\"672\" y=\"-22.8\" font-family=\"Helvetica,sans-Serif\" font-size=\"14.00\" fill=\"#000000\">value = [0.492, 0.508]</text>\n<text text-anchor=\"start\" x=\"713\" y=\"-7.8\" font-family=\"Helvetica,sans-Serif\" font-size=\"14.00\" fill=\"#000000\">class = 1</text>\n</g>\n<!-- 9&#45;&gt;10 -->\n<g id=\"edge10\" class=\"edge\">\n<title>9&#45;&gt;10</title>\n<path fill=\"none\" stroke=\"#000000\" d=\"M765.8099,-118.7296C763.1682,-110.1609 760.4154,-101.2319 757.7588,-92.6151\"/>\n<polygon fill=\"#000000\" stroke=\"#000000\" points=\"761.1023,-91.5799 754.8114,-83.055 754.413,-93.6423 761.1023,-91.5799\"/>\n</g>\n<!-- 11 -->\n<g id=\"node12\" class=\"node\">\n<title>11</title>\n<path fill=\"#f3c7a7\" stroke=\"#000000\" d=\"M982,-83C982,-83 850,-83 850,-83 844,-83 838,-77 838,-71 838,-71 838,-12 838,-12 838,-6 844,0 850,0 850,0 982,0 982,0 988,0 994,-6 994,-12 994,-12 994,-71 994,-71 994,-77 988,-83 982,-83\"/>\n<text text-anchor=\"start\" x=\"885\" y=\"-67.8\" font-family=\"Helvetica,sans-Serif\" font-size=\"14.00\" fill=\"#000000\">node #11</text>\n<text text-anchor=\"start\" x=\"878\" y=\"-52.8\" font-family=\"Helvetica,sans-Serif\" font-size=\"14.00\" fill=\"#000000\">gini = 0.459</text>\n<text text-anchor=\"start\" x=\"864\" y=\"-37.8\" font-family=\"Helvetica,sans-Serif\" font-size=\"14.00\" fill=\"#000000\">samples = 1.0%</text>\n<text text-anchor=\"start\" x=\"846\" y=\"-22.8\" font-family=\"Helvetica,sans-Serif\" font-size=\"14.00\" fill=\"#000000\">value = [0.643, 0.357]</text>\n<text text-anchor=\"start\" x=\"887\" y=\"-7.8\" font-family=\"Helvetica,sans-Serif\" font-size=\"14.00\" fill=\"#000000\">class = 0</text>\n</g>\n<!-- 9&#45;&gt;11 -->\n<g id=\"edge11\" class=\"edge\">\n<title>9&#45;&gt;11</title>\n<path fill=\"none\" stroke=\"#000000\" d=\"M833.5811,-118.7296C843.6105,-109.3317 854.1024,-99.5003 864.11,-90.1228\"/>\n<polygon fill=\"#000000\" stroke=\"#000000\" points=\"866.7489,-92.4466 871.6528,-83.055 861.9626,-87.3386 866.7489,-92.4466\"/>\n</g>\n<!-- 13 -->\n<g id=\"node14\" class=\"node\">\n<title>13</title>\n<path fill=\"#eca26e\" stroke=\"#000000\" d=\"M1140,-83C1140,-83 1024,-83 1024,-83 1018,-83 1012,-77 1012,-71 1012,-71 1012,-12 1012,-12 1012,-6 1018,0 1024,0 1024,0 1140,0 1140,0 1146,0 1152,-6 1152,-12 1152,-12 1152,-71 1152,-71 1152,-77 1146,-83 1140,-83\"/>\n<text text-anchor=\"start\" x=\"1051\" y=\"-67.8\" font-family=\"Helvetica,sans-Serif\" font-size=\"14.00\" fill=\"#000000\">node #13</text>\n<text text-anchor=\"start\" x=\"1044\" y=\"-52.8\" font-family=\"Helvetica,sans-Serif\" font-size=\"14.00\" fill=\"#000000\">gini = 0.332</text>\n<text text-anchor=\"start\" x=\"1030\" y=\"-37.8\" font-family=\"Helvetica,sans-Serif\" font-size=\"14.00\" fill=\"#000000\">samples = 0.9%</text>\n<text text-anchor=\"start\" x=\"1020\" y=\"-22.8\" font-family=\"Helvetica,sans-Serif\" font-size=\"14.00\" fill=\"#000000\">value = [0.79, 0.21]</text>\n<text text-anchor=\"start\" x=\"1053\" y=\"-7.8\" font-family=\"Helvetica,sans-Serif\" font-size=\"14.00\" fill=\"#000000\">class = 0</text>\n</g>\n<!-- 12&#45;&gt;13 -->\n<g id=\"edge13\" class=\"edge\">\n<title>12&#45;&gt;13</title>\n<path fill=\"none\" stroke=\"#000000\" d=\"M1082,-118.7296C1082,-110.3452 1082,-101.6158 1082,-93.1714\"/>\n<polygon fill=\"#000000\" stroke=\"#000000\" points=\"1085.5001,-93.0549 1082,-83.055 1078.5001,-93.055 1085.5001,-93.0549\"/>\n</g>\n<!-- 14 -->\n<g id=\"node15\" class=\"node\">\n<title>14</title>\n<path fill=\"#e9965a\" stroke=\"#000000\" d=\"M1314,-83C1314,-83 1182,-83 1182,-83 1176,-83 1170,-77 1170,-71 1170,-71 1170,-12 1170,-12 1170,-6 1176,0 1182,0 1182,0 1314,0 1314,0 1320,0 1326,-6 1326,-12 1326,-12 1326,-71 1326,-71 1326,-77 1320,-83 1314,-83\"/>\n<text text-anchor=\"start\" x=\"1217\" y=\"-67.8\" font-family=\"Helvetica,sans-Serif\" font-size=\"14.00\" fill=\"#000000\">node #14</text>\n<text text-anchor=\"start\" x=\"1210\" y=\"-52.8\" font-family=\"Helvetica,sans-Serif\" font-size=\"14.00\" fill=\"#000000\">gini = 0.244</text>\n<text text-anchor=\"start\" x=\"1196\" y=\"-37.8\" font-family=\"Helvetica,sans-Serif\" font-size=\"14.00\" fill=\"#000000\">samples = 0.9%</text>\n<text text-anchor=\"start\" x=\"1178\" y=\"-22.8\" font-family=\"Helvetica,sans-Serif\" font-size=\"14.00\" fill=\"#000000\">value = [0.858, 0.142]</text>\n<text text-anchor=\"start\" x=\"1219\" y=\"-7.8\" font-family=\"Helvetica,sans-Serif\" font-size=\"14.00\" fill=\"#000000\">class = 0</text>\n</g>\n<!-- 12&#45;&gt;14 -->\n<g id=\"edge14\" class=\"edge\">\n<title>12&#45;&gt;14</title>\n<path fill=\"none\" stroke=\"#000000\" d=\"M1146.6553,-118.7296C1159.3504,-109.0553 1172.6483,-98.9216 1185.2788,-89.2966\"/>\n<polygon fill=\"#000000\" stroke=\"#000000\" points=\"1187.637,-91.9 1193.4694,-83.055 1183.3942,-86.3323 1187.637,-91.9\"/>\n</g>\n</g>\n</svg>\n"
          },
          "metadata": {
            "tags": []
          },
          "execution_count": 69
        }
      ]
    },
    {
      "cell_type": "code",
      "metadata": {
        "id": "EDe9raNDinc0"
      },
      "source": [
        ""
      ],
      "execution_count": null,
      "outputs": []
    }
  ]
}